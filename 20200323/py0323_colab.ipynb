{
  "nbformat": 4,
  "nbformat_minor": 0,
  "metadata": {
    "colab": {
      "name": "py0323_colab.ipynb",
      "provenance": [],
      "collapsed_sections": []
    },
    "kernelspec": {
      "name": "python3",
      "display_name": "Python 3"
    }
  },
  "cells": [
    {
      "cell_type": "code",
      "metadata": {
        "id": "zttAbcpu-PRH",
        "colab_type": "code",
        "outputId": "0442f185-8080-420c-d544-931fc0c016cc",
        "colab": {
          "base_uri": "https://localhost:8080/",
          "height": 35
        }
      },
      "source": [
        "import tensorflow as tf\n",
        "print(tf.__version__)"
      ],
      "execution_count": 0,
      "outputs": [
        {
          "output_type": "stream",
          "text": [
            "1.15.0\n"
          ],
          "name": "stdout"
        }
      ]
    },
    {
      "cell_type": "code",
      "metadata": {
        "id": "sLy_7ydi_NEo",
        "colab_type": "code",
        "colab": {
          "base_uri": "https://localhost:8080/",
          "height": 161
        },
        "outputId": "339a052a-720a-48ce-a5b9-7f8203af38f0"
      },
      "source": [
        "#constant_operation01.py\n",
        "import tensorflow as tf\n",
        "# 상수 정의\n",
        "a = tf.constant(2)\n",
        "b = tf.constant(3)\n",
        "c = a+b\n",
        "print(a)\n",
        "print(b)\n",
        "print(c)\n",
        "print(a+b)\n",
        "\n",
        "# 세션 시작\n",
        "sess = tf.Session()\n",
        "\n",
        "# 연산 결과 출력\n",
        "print(sess.run(a))\n",
        "print(sess.run(b))\n",
        "print(sess.run(c))\n",
        "print(sess.run(a+b))"
      ],
      "execution_count": 4,
      "outputs": [
        {
          "output_type": "stream",
          "text": [
            "Tensor(\"Const:0\", shape=(), dtype=int32)\n",
            "Tensor(\"Const_1:0\", shape=(), dtype=int32)\n",
            "Tensor(\"add:0\", shape=(), dtype=int32)\n",
            "Tensor(\"add_1:0\", shape=(), dtype=int32)\n",
            "2\n",
            "3\n",
            "5\n",
            "5\n"
          ],
          "name": "stdout"
        }
      ]
    },
    {
      "cell_type": "code",
      "metadata": {
        "id": "uonEeQ3HG7C8",
        "colab_type": "code",
        "colab": {
          "base_uri": "https://localhost:8080/",
          "height": 53
        },
        "outputId": "110df350-4dee-43e6-c0e1-33e8a614d051"
      },
      "source": [
        "# 상수 정의\n",
        " a = tf.constant(2)\n",
        " b = tf.constant(3)\n",
        " c = tf.constant(4)\n",
        "\n",
        " # 상수 연산\n",
        " cal1 = a + b * c\n",
        " cal2 = (a + b) * c\n",
        "\n",
        " # 세션 선언\n",
        " sess = tf.Session()\n",
        " print(sess.run(cal1))\n",
        " print(sess.run(cal2))"
      ],
      "execution_count": 5,
      "outputs": [
        {
          "output_type": "stream",
          "text": [
            "14\n",
            "20\n"
          ],
          "name": "stdout"
        }
      ]
    },
    {
      "cell_type": "code",
      "metadata": {
        "id": "LU6tH_aaQvG3",
        "colab_type": "code",
        "colab": {
          "base_uri": "https://localhost:8080/",
          "height": 53
        },
        "outputId": "0b9ab8a4-276b-41f1-a5d3-2b375129788f"
      },
      "source": [
        "#constant_operation02.py\n",
        "import tensorflow as tf\n",
        "# 상수 정의\n",
        "a = tf.constant(2)\n",
        "b = tf.constant(3)\n",
        "c = tf.constant(4)\n",
        "# 연산 정의\n",
        "cal1 = a + b * c\n",
        "cal2 = (a + b) * c\n",
        "# 세션 시작\n",
        "sess = tf.Session()\n",
        "res1 = sess.run(cal1)\n",
        "res2 = sess.run(cal2)\n",
        "print(res1)\n",
        "print(res2)"
      ],
      "execution_count": 7,
      "outputs": [
        {
          "output_type": "stream",
          "text": [
            "14\n",
            "20\n"
          ],
          "name": "stdout"
        }
      ]
    },
    {
      "cell_type": "code",
      "metadata": {
        "id": "ILxaN3HUQvJG",
        "colab_type": "code",
        "colab": {
          "base_uri": "https://localhost:8080/",
          "height": 71
        },
        "outputId": "ff0e201b-ddcb-450f-c9b4-f7fef7db4256"
      },
      "source": [
        "#constant_operation03.py\n",
        "import tensorflow as tf\n",
        "node1 = tf.constant(3.0, tf.float32)\n",
        "node2 = tf.constant(4.0)\n",
        "node3 = tf.add(node1, node2)\n",
        "node4 = tf.multiply(node1, node2)\n",
        "sess = tf.Session()\n",
        "print(sess.run([node1, node2]))\n",
        "print(sess.run(node3))\n",
        "print(sess.run(node4))"
      ],
      "execution_count": 8,
      "outputs": [
        {
          "output_type": "stream",
          "text": [
            "[3.0, 4.0]\n",
            "7.0\n",
            "12.0\n"
          ],
          "name": "stdout"
        }
      ]
    },
    {
      "cell_type": "code",
      "metadata": {
        "id": "sfGXCckDQvLU",
        "colab_type": "code",
        "colab": {
          "base_uri": "https://localhost:8080/",
          "height": 89
        },
        "outputId": "52bd5fbd-7a98-46d0-ab69-ebf6073e90b3"
      },
      "source": [
        "#constant_operation04.py\n",
        "import tensorflow as tf\n",
        "# initialize two constants\n",
        "x1 = tf.constant([1, 2, 3, 4])\n",
        "x2 = tf.constant([5, 6, 7, 8])\n",
        "# operations\n",
        "cal1 = tf.add(x1, x2) # 더하기\n",
        "cal2 = tf.subtract(x1, x2) # 빼기\n",
        "cal3 = tf.multiply(x1, x2) # 곱하기\n",
        "cal4 = tf.divide(x1, x2) # 나누기\n",
        "# initialize the Session\n",
        "sess = tf.Session()\n",
        "# print the result\n",
        "print(sess.run(cal1))\n",
        "print(sess.run(cal2))\n",
        "print(sess.run(cal3))\n",
        "print(sess.run(cal4))\n",
        "# close the session\n",
        "sess.close()"
      ],
      "execution_count": 9,
      "outputs": [
        {
          "output_type": "stream",
          "text": [
            "[ 6  8 10 12]\n",
            "[-4 -4 -4 -4]\n",
            "[ 5 12 21 32]\n",
            "[0.2        0.33333333 0.42857143 0.5       ]\n"
          ],
          "name": "stdout"
        }
      ]
    },
    {
      "cell_type": "markdown",
      "metadata": {
        "id": "75yGxR8tQ5-O",
        "colab_type": "text"
      },
      "source": [
        "Tensorflow의 변수(variable)\n",
        "\n",
        " w = tf.Variable(`<initial-value>`, name=`<optional-name>`)"
      ]
    },
    {
      "cell_type": "code",
      "metadata": {
        "id": "XpTbxr9WQvNb",
        "colab_type": "code",
        "colab": {
          "base_uri": "https://localhost:8080/",
          "height": 53
        },
        "outputId": "58f4c3cd-8bc7-4703-99bb-58a5ade85eaa"
      },
      "source": [
        "#variable01.py\n",
        "import tensorflow as tf\n",
        "v = tf.Variable(50) # v변수의 초기값 50 설정\n",
        "print(v) #<tf.Variable 'Variable:0' shape=() dtype=int32_ref>\n",
        "# 모든 변수를 초기화\n",
        "init = tf.global_variables_initializer()\n",
        "sess = tf.Session()\n",
        "sess.run(init) # Session을 통해서 init변수를 실행 시켜야한다.\n",
        "print('v=', sess.run(v)) # v= 50"
      ],
      "execution_count": 10,
      "outputs": [
        {
          "output_type": "stream",
          "text": [
            "<tf.Variable 'Variable:0' shape=() dtype=int32_ref>\n",
            "v= 50\n"
          ],
          "name": "stdout"
        }
      ]
    },
    {
      "cell_type": "code",
      "metadata": {
        "id": "X0H7V2_KRNdF",
        "colab_type": "code",
        "colab": {
          "base_uri": "https://localhost:8080/",
          "height": 143
        },
        "outputId": "f44e53ed-0f37-4838-d4e3-ef3c72d6e17b"
      },
      "source": [
        "#variable02.py\n",
        "import tensorflow as tf\n",
        "v1 = tf.Variable(50) # v1 변수의 초기값 50\n",
        "v2 = tf.Variable([1,2,3]) # rank: 1, shape: (3)\n",
        "v3 = tf.Variable([[1],[2]]) # rank: 2, shape: (2,1)\n",
        "print('v1=', v1) # v1= <tf.Variable 'Variable:0' shape=() dtype=int32_ref>\n",
        "print('v2=', v2) # v2= <tf.Variable 'Variable_1:0' shape=(3,) dtype=int32_ref>\n",
        "print('v3=', v3) # v3= <tf.Variable 'Variable_2:0' shape=(2, 1) dtype=int32_ref>\n",
        "# 모든 변수를 초기화\n",
        "init = tf.global_variables_initializer()\n",
        "sess = tf.Session()\n",
        "sess.run(init) # Session을 통해서 init변수를 실행 시켜야한다.\n",
        "print('v1=', sess.run(v1)) # v1= 50\n",
        "print('v2=', sess.run(v2)) # v2= [1 2 3]\n",
        "print('v3=', sess.run(v3)) # v3= [[1] [2]]"
      ],
      "execution_count": 11,
      "outputs": [
        {
          "output_type": "stream",
          "text": [
            "v1= <tf.Variable 'Variable_1:0' shape=() dtype=int32_ref>\n",
            "v2= <tf.Variable 'Variable_2:0' shape=(3,) dtype=int32_ref>\n",
            "v3= <tf.Variable 'Variable_3:0' shape=(2, 1) dtype=int32_ref>\n",
            "v1= 50\n",
            "v2= [1 2 3]\n",
            "v3= [[1]\n",
            " [2]]\n"
          ],
          "name": "stdout"
        }
      ]
    },
    {
      "cell_type": "code",
      "metadata": {
        "id": "Q121UtwGRQfd",
        "colab_type": "code",
        "colab": {
          "base_uri": "https://localhost:8080/",
          "height": 161
        },
        "outputId": "ead0ef7a-dc1d-412c-d333-ec1689911322"
      },
      "source": [
        "#variable03.py\n",
        "import tensorflow as tf\n",
        "x = tf.Variable([[2, 2, 2],[2, 2, 2]]) # rank: 2, shape(2,3) 2행 3열\n",
        "y = tf.Variable([[3, 3, 3],[3, 3, 3]]) # rank: 2, shape(2,3) 2행 3열\n",
        "z1 = tf.add(x, y) # 덧셈\n",
        "z2 = tf.subtract(x, y) # 뺄셈\n",
        "z3 = tf.multiply(x, y) # 곱셈\n",
        "z4 = tf.matmul(x, tf.transpose(y)) # matrix 곱셈 (전체 행과 열이 맞아야 함, y를 전치행렬로 바꿈)\n",
        "init = tf.global_variables_initializer()\n",
        "sess = tf.Session()\n",
        "sess.run(init)\n",
        "print(sess.run(z1))\n",
        "print(sess.run(z2))\n",
        "print(sess.run(z3))\n",
        "print(sess.run(z4))"
      ],
      "execution_count": 12,
      "outputs": [
        {
          "output_type": "stream",
          "text": [
            "[[5 5 5]\n",
            " [5 5 5]]\n",
            "[[-1 -1 -1]\n",
            " [-1 -1 -1]]\n",
            "[[6 6 6]\n",
            " [6 6 6]]\n",
            "[[18 18]\n",
            " [18 18]]\n"
          ],
          "name": "stdout"
        }
      ]
    },
    {
      "cell_type": "code",
      "metadata": {
        "id": "dOU7sPjNSPRt",
        "colab_type": "code",
        "colab": {
          "base_uri": "https://localhost:8080/",
          "height": 197
        },
        "outputId": "87f4d47d-3c91-4940-9cd3-49e6366abc09"
      },
      "source": [
        "# 변수 선언\n",
        "x = tf.Variable([[2, 2, 2], [2, 2, 2]])\n",
        "y = tf.Variable([[3, 3, 3], [3, 3, 3]])\n",
        "\n",
        "# 변수 연산\n",
        "z1 = tf.add(x, y)\n",
        "z2 = tf.subtract(x, y)\n",
        "z3 = tf.multiply(x, y)\n",
        "z4 = tf.divide(x, y)\n",
        "z5 = tf.matmul(x, tf.transpose(y))\n",
        "\n",
        "# 세션 선언\n",
        "sess = tf.Session()\n",
        "\n",
        "# 모든 변수 초기화\n",
        "# 출력을 위해서 필요함\n",
        "sess.run(tf.global_variables_initializer())\n",
        "\n",
        "# 연산 결과 출력\n",
        "print(sess.run(z1))\n",
        "print(sess.run(z2))\n",
        "print(sess.run(z3))\n",
        "print(sess.run(z4))\n",
        "print(sess.run(z5))"
      ],
      "execution_count": 16,
      "outputs": [
        {
          "output_type": "stream",
          "text": [
            "[[5 5 5]\n",
            " [5 5 5]]\n",
            "[[-1 -1 -1]\n",
            " [-1 -1 -1]]\n",
            "[[6 6 6]\n",
            " [6 6 6]]\n",
            "[[0.66666667 0.66666667 0.66666667]\n",
            " [0.66666667 0.66666667 0.66666667]]\n",
            "[[18 18]\n",
            " [18 18]]\n"
          ],
          "name": "stdout"
        }
      ]
    },
    {
      "cell_type": "code",
      "metadata": {
        "id": "D4Mtgh7VUehK",
        "colab_type": "code",
        "colab": {
          "base_uri": "https://localhost:8080/",
          "height": 143
        },
        "outputId": "6757ac7a-7676-4f7b-e47a-f9868fa9992b"
      },
      "source": [
        "#matrix.py\n",
        "import tensorflow as tf\n",
        "\n",
        "# 변수 선언\n",
        "x = tf.Variable([[3., 3.]]) # shape: (1, 2) 1행 2열\n",
        "y = tf.Variable([[2.],[2.]]) # shape: (2, 1) 2행 1열\n",
        "mat = tf.matmul(x, y) # matrix 곱셈\n",
        "\n",
        "# 변수 초기화\n",
        "init = tf.global_variables_initializer()\n",
        "sess = tf.Session()\n",
        "sess.run(init)\n",
        "\n",
        "# 각 변수의 shape 출력\n",
        "print(x.get_shape()) # shape: (1, 2) 1행 2열\n",
        "print(y.get_shape()) # shape: (2, 1) 2행 1열\n",
        "print()\n",
        "\n",
        "# 각 변수 출력\n",
        "print('x=', sess.run(x))\n",
        "print('y=', sess.run(y))\n",
        "print('mat=', sess.run(mat))\n"
      ],
      "execution_count": 18,
      "outputs": [
        {
          "output_type": "stream",
          "text": [
            "(1, 2)\n",
            "(2, 1)\n",
            "\n",
            "x= [[3. 3.]]\n",
            "y= [[2.]\n",
            " [2.]]\n",
            "mat= [[12.]]\n"
          ],
          "name": "stdout"
        }
      ]
    },
    {
      "cell_type": "code",
      "metadata": {
        "id": "EmCzrRD6WudA",
        "colab_type": "code",
        "colab": {
          "base_uri": "https://localhost:8080/",
          "height": 197
        },
        "outputId": "1ccb96c1-cfd5-41ca-911a-ae16c2720f70"
      },
      "source": [
        "#variable04.py\n",
        "import tensorflow as tf\n",
        "\n",
        "# 특별한 기능을 가진 함수\n",
        "# 변수 선언\n",
        "v1 = tf.Variable(tf.zeros([2,3])) # [[ 0. 0. 0.] [ 0. 0. 0.]]\n",
        "v2 = tf.Variable(tf.ones([2,3], tf.int32)) # [[1 1 1] [1 1 1]]\n",
        "v3 = tf.Variable(tf.zeros_like(tf.ones([2,3]))) # [[ 0. 0. 0.] [ 0. 0. 0.]]\n",
        "v4 = tf.Variable(tf.fill([2,3], 2)) # [[2 2 2] [2 2 2]]\n",
        "v5 = tf.Variable(tf.fill([2,3], 2.0)) # [[ 2. 2. 2.] [ 2. 2. 2.]]\n",
        "\n",
        "\"\"\"\n",
        "tensor = tf.constant([[1, 2, 3], [4, 5, 6]])\n",
        "tf.zeros_like(tensor)  # [[0, 0, 0], [0, 0, 0]] with dtype=int32\n",
        "\n",
        "If dtype of input `tensor` is `float32`, then the output is also of `float32`\n",
        "tensor = tf.constant([[1.0, 2.0, 3.0], [4, 5, 6]])\n",
        "tf.zeros_like(tensor)  # [[0., 0., 0.], [0., 0., 0.]] with dtype=floa32\n",
        "\n",
        "If you want to specify desired dtype of output `tensor`, then specify it in\n",
        "the op tensor = tf.constant([[1.0, 2.0, 3.0], [4, 5, 6]])\n",
        "tf.zeros_like(tensor,dtype=tf.int32)  # [[0, 0, 0], [0, 0, 0]] with\n",
        "dtype=int32\n",
        "\"\"\"\n",
        "\n",
        "\n",
        "# 모든 변수 초기화\n",
        "init = tf.global_variables_initializer()\n",
        "sess = tf.Session()\n",
        "sess.run(init)\n",
        "\n",
        "# 변수 출력\n",
        "print('v1=', sess.run(v1))\n",
        "print('v2=', sess.run(v2))\n",
        "print('v3=', sess.run(v3))\n",
        "print('v4=', sess.run(v4))\n",
        "print('v5=', sess.run(v5))"
      ],
      "execution_count": 19,
      "outputs": [
        {
          "output_type": "stream",
          "text": [
            "v1= [[0. 0. 0.]\n",
            " [0. 0. 0.]]\n",
            "v2= [[1 1 1]\n",
            " [1 1 1]]\n",
            "v3= [[0. 0. 0.]\n",
            " [0. 0. 0.]]\n",
            "v4= [[2 2 2]\n",
            " [2 2 2]]\n",
            "v5= [[2. 2. 2.]\n",
            " [2. 2. 2.]]\n"
          ],
          "name": "stdout"
        }
      ]
    }
  ]
}