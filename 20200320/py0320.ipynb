{
 "cells": [
  {
   "cell_type": "markdown",
   "metadata": {},
   "source": [
    "***\n",
    "# 오전 수업\n",
    "***\n",
    "***"
   ]
  },
  {
   "cell_type": "markdown",
   "metadata": {},
   "source": [
    "### knn_classification.py\n",
    "- 어제 수업 이어서"
   ]
  },
  {
   "cell_type": "code",
   "execution_count": 39,
   "metadata": {},
   "outputs": [
    {
     "name": "stdout",
     "output_type": "stream",
     "text": [
      "<class 'pandas.core.frame.DataFrame'>\n",
      "RangeIndex: 891 entries, 0 to 890\n",
      "Data columns (total 15 columns):\n",
      "survived       891 non-null int64\n",
      "pclass         891 non-null int64\n",
      "sex            891 non-null object\n",
      "age            714 non-null float64\n",
      "sibsp          891 non-null int64\n",
      "parch          891 non-null int64\n",
      "fare           891 non-null float64\n",
      "embarked       889 non-null object\n",
      "class          891 non-null category\n",
      "who            891 non-null object\n",
      "adult_male     891 non-null bool\n",
      "deck           203 non-null category\n",
      "embark_town    889 non-null object\n",
      "alive          891 non-null object\n",
      "alone          891 non-null bool\n",
      "dtypes: bool(2), category(2), float64(2), int64(4), object(5)\n",
      "memory usage: 80.6+ KB\n"
     ]
    }
   ],
   "source": [
    "# knn_classification.py\n",
    "# seaborn 라이브러리에서 제공되는 titanic 데이터셋의 탑승객의 생존여부를 KNN 알고리즘으로 분류\n",
    "\n",
    "import pandas as pd\n",
    "import seaborn as sns\n",
    "\n",
    "# seaborn 모듈의 titanic 데이터 로드\n",
    "titanic = sns.load_dataset('titanic')\n",
    "titanic.info()"
   ]
  },
  {
   "cell_type": "code",
   "execution_count": 40,
   "metadata": {},
   "outputs": [
    {
     "name": "stdout",
     "output_type": "stream",
     "text": [
      "     survived  pclass     sex   age  sibsp  parch     fare embarked   class  \\\n",
      "0           0       3    male  22.0      1      0   7.2500        S   Third   \n",
      "1           1       1  female  38.0      1      0  71.2833        C   First   \n",
      "2           1       3  female  26.0      0      0   7.9250        S   Third   \n",
      "3           1       1  female  35.0      1      0  53.1000        S   First   \n",
      "4           0       3    male  35.0      0      0   8.0500        S   Third   \n",
      "..        ...     ...     ...   ...    ...    ...      ...      ...     ...   \n",
      "886         0       2    male  27.0      0      0  13.0000        S  Second   \n",
      "887         1       1  female  19.0      0      0  30.0000        S   First   \n",
      "888         0       3  female   NaN      1      2  23.4500        S   Third   \n",
      "889         1       1    male  26.0      0      0  30.0000        C   First   \n",
      "890         0       3    male  32.0      0      0   7.7500        Q   Third   \n",
      "\n",
      "       who  adult_male deck  embark_town alive  alone  \n",
      "0      man        True  NaN  Southampton    no  False  \n",
      "1    woman       False    C    Cherbourg   yes  False  \n",
      "2    woman       False  NaN  Southampton   yes   True  \n",
      "3    woman       False    C  Southampton   yes  False  \n",
      "4      man        True  NaN  Southampton    no   True  \n",
      "..     ...         ...  ...          ...   ...    ...  \n",
      "886    man        True  NaN  Southampton    no   True  \n",
      "887  woman       False    B  Southampton   yes   True  \n",
      "888  woman       False  NaN  Southampton    no  False  \n",
      "889    man        True    C    Cherbourg   yes   True  \n",
      "890    man        True  NaN   Queenstown    no   True  \n",
      "\n",
      "[891 rows x 15 columns]\n"
     ]
    }
   ],
   "source": [
    "# 한줄에 15개의 컬럼 출력되도록 설정\n",
    "pd.set_option('display.max_columns', 15)\n",
    "print(titanic)"
   ]
  },
  {
   "cell_type": "code",
   "execution_count": 41,
   "metadata": {},
   "outputs": [
    {
     "name": "stdout",
     "output_type": "stream",
     "text": [
      "<class 'pandas.core.frame.DataFrame'>\n",
      "RangeIndex: 891 entries, 0 to 890\n",
      "Data columns (total 15 columns):\n",
      "survived       891 non-null int64\n",
      "pclass         891 non-null int64\n",
      "sex            891 non-null object\n",
      "age            714 non-null float64\n",
      "sibsp          891 non-null int64\n",
      "parch          891 non-null int64\n",
      "fare           891 non-null float64\n",
      "embarked       889 non-null object\n",
      "class          891 non-null category\n",
      "who            891 non-null object\n",
      "adult_male     891 non-null bool\n",
      "deck           203 non-null category\n",
      "embark_town    889 non-null object\n",
      "alive          891 non-null object\n",
      "alone          891 non-null bool\n",
      "dtypes: bool(2), category(2), float64(2), int64(4), object(5)\n",
      "memory usage: 80.6+ KB\n"
     ]
    }
   ],
   "source": [
    "titanic.info()\n",
    "#  3   age          714 non-null    float64 << 개수 차이 유의\n",
    "#  7   embarked     889 non-null    object  << 중복값 유의\n",
    "#  11  deck         203 non-null    category << null 값 많은 열 제거(유효 데이터 적어서 제거)\n",
    "#  12  embark_town  889 non-null    object  << embarked 중복값 제거\n",
    "# dtypes: bool(2), category(2), float64(2), int64(4), object(5)"
   ]
  },
  {
   "cell_type": "markdown",
   "metadata": {},
   "source": [
    "  3   age          714 non-null    float64 << 개수 차이 유의\n",
    "  \n",
    "  7   embarked     889 non-null    object  << 중복값 유의\n",
    "  \n",
    "  11  deck         203 non-null    category << null 값 많은 열 제거(유효 데이터 적어서 제거)\n",
    "  \n",
    "  12  embark_town  889 non-null    object  << embarked 중복값 제거\n",
    "  \n",
    " dtypes: bool(2), category(2), float64(2), int64(4), object(5)"
   ]
  },
  {
   "cell_type": "code",
   "execution_count": 42,
   "metadata": {},
   "outputs": [
    {
     "name": "stdout",
     "output_type": "stream",
     "text": [
      "['survived' 'pclass' 'sex' 'age' 'sibsp' 'parch' 'fare' 'embarked' 'class'\n",
      " 'who' 'adult_male' 'alive' 'alone']\n"
     ]
    }
   ],
   "source": [
    "# deck(배의 갑판), embark_town(승선 도시) 컬럼 삭제\n",
    "rdf = titanic.drop(['deck', 'embark_town'], axis=1)\n",
    "# 삭제 확인\n",
    "print(rdf.columns.values)\n",
    "# ['survived' 'pclass' 'sex' 'age' 'sibsp' 'parch' 'fare' 'embarked' 'class' 'who' 'adult_male' 'alive' 'alone']"
   ]
  },
  {
   "cell_type": "code",
   "execution_count": 43,
   "metadata": {},
   "outputs": [
    {
     "name": "stdout",
     "output_type": "stream",
     "text": [
      "714\n"
     ]
    }
   ],
   "source": [
    "# age 열에 누락 데이터 행 삭제 (891개 중 177개의 NaN 값)\n",
    "rdf = rdf.dropna(subset=['age'], how='any', axis=0)\n",
    "# 삭제 확인\n",
    "print(len(rdf)) #891 - 177 = 714"
   ]
  },
  {
   "cell_type": "code",
   "execution_count": 44,
   "metadata": {},
   "outputs": [
    {
     "name": "stdout",
     "output_type": "stream",
     "text": [
      "S\n"
     ]
    }
   ],
   "source": [
    "## embarked 열의 NaN값을 승선도시 중에서 가장 많이 출현한 값으로 치환\n",
    "# embarked 열의 알파벳은 타이타닉호에 탑승한 승객의 도시\n",
    "#print(rdf.describe(include='all')); print()\n",
    "\n",
    "# 최빈값 알아보기\n",
    "most_freq = rdf['embarked'].value_counts(dropna=True).idxmax()\n",
    "print(most_freq) # S : Southampton"
   ]
  },
  {
   "cell_type": "code",
   "execution_count": 45,
   "metadata": {},
   "outputs": [
    {
     "name": "stdout",
     "output_type": "stream",
     "text": [
      "<class 'pandas.core.frame.DataFrame'>\n",
      "Int64Index: 714 entries, 0 to 890\n",
      "Data columns (total 7 columns):\n",
      "survived    714 non-null int64\n",
      "pclass      714 non-null int64\n",
      "sex         714 non-null object\n",
      "age         714 non-null float64\n",
      "sibsp       714 non-null int64\n",
      "parch       714 non-null int64\n",
      "embarked    714 non-null object\n",
      "dtypes: float64(1), int64(4), object(2)\n",
      "memory usage: 44.6+ KB\n",
      "\n",
      "   survived  pclass     sex   age  sibsp  parch embarked\n",
      "0         0       3    male  22.0      1      0        S\n",
      "1         1       1  female  38.0      1      0        C\n",
      "2         1       3  female  26.0      0      0        S\n",
      "3         1       1  female  35.0      1      0        S\n",
      "4         0       3    male  35.0      0      0        S\n"
     ]
    }
   ],
   "source": [
    "# embarked 열에 누락 데이터(NaN)를 S로 치환 - fillna() 사용\n",
    "rdf['embarked'].fillna(most_freq, inplace=True)\n",
    "\n",
    "# 분석에 사용할 열(속성) 선택\n",
    "# titanic.info()\n",
    "ndf = rdf[['survived', 'pclass', 'sex', 'age', 'sibsp', 'parch', 'embarked']]\n",
    "# 결과 확인\n",
    "ndf.info(); print()\n",
    "print(ndf.head())"
   ]
  },
  {
   "cell_type": "code",
   "execution_count": 46,
   "metadata": {},
   "outputs": [
    {
     "name": "stdout",
     "output_type": "stream",
     "text": [
      "<class 'pandas.core.frame.DataFrame'>\n",
      "Int64Index: 714 entries, 0 to 890\n",
      "Data columns (total 12 columns):\n",
      "survived    714 non-null int64\n",
      "pclass      714 non-null int64\n",
      "sex         714 non-null object\n",
      "age         714 non-null float64\n",
      "sibsp       714 non-null int64\n",
      "parch       714 non-null int64\n",
      "embarked    714 non-null object\n",
      "female      714 non-null uint8\n",
      "male        714 non-null uint8\n",
      "town_C      714 non-null uint8\n",
      "town_Q      714 non-null uint8\n",
      "town_S      714 non-null uint8\n",
      "dtypes: float64(1), int64(4), object(2), uint8(5)\n",
      "memory usage: 48.1+ KB\n"
     ]
    }
   ],
   "source": [
    "# KNN모델을 적용하기 위해 sex열과 embarked열의 범주형 데이터를 숫자형으로 변환\n",
    "# 원핫인코딩 - 범주형 데이터를 모델이 인식할 수 있도록 숫자형으로 변환하는것\n",
    "# 2   sex       714 non-null    object\n",
    "# 6   embarked  714 non-null    object\n",
    "onehot_sex = pd.get_dummies(ndf['sex'])\n",
    "ndf = pd.concat([ndf, onehot_sex], axis=1)\n",
    "\n",
    "# embarked열에 생성되는 더미 변수가  town_C, town_Q, town_S로 생성되도록 prefix='town' 옵션 추가\n",
    "onehot_embarked = pd.get_dummies(ndf['embarked'], prefix='town')\n",
    "ndf = pd.concat([ndf, onehot_embarked], axis=1)\n",
    "\n",
    "# 열 생성 확인\n",
    "ndf.info()"
   ]
  },
  {
   "cell_type": "code",
   "execution_count": 47,
   "metadata": {},
   "outputs": [
    {
     "name": "stdout",
     "output_type": "stream",
     "text": [
      "   survived  pclass   age  sibsp  parch  female  male  town_C  town_Q  town_S\n",
      "0         0       3  22.0      1      0       0     1       0       0       1\n",
      "1         1       1  38.0      1      0       1     0       1       0       0\n",
      "2         1       3  26.0      0      0       1     0       0       0       1\n",
      "3         1       1  35.0      1      0       1     0       0       0       1\n",
      "4         0       3  35.0      0      0       0     1       0       0       1\n",
      "\n",
      "<class 'pandas.core.frame.DataFrame'>\n",
      "Int64Index: 714 entries, 0 to 890\n",
      "Data columns (total 10 columns):\n",
      "survived    714 non-null int64\n",
      "pclass      714 non-null int64\n",
      "age         714 non-null float64\n",
      "sibsp       714 non-null int64\n",
      "parch       714 non-null int64\n",
      "female      714 non-null uint8\n",
      "male        714 non-null uint8\n",
      "town_C      714 non-null uint8\n",
      "town_Q      714 non-null uint8\n",
      "town_S      714 non-null uint8\n",
      "dtypes: float64(1), int64(4), uint8(5)\n",
      "memory usage: 37.0 KB\n"
     ]
    }
   ],
   "source": [
    "# 기존 sex열과 embarked열 삭제\n",
    "ndf.drop(['sex', 'embarked'], axis=1, inplace=True)\n",
    "# 열 삭제 확인\n",
    "print(ndf.head()); print()\n",
    "ndf.info()"
   ]
  },
  {
   "cell_type": "code",
   "execution_count": 48,
   "metadata": {},
   "outputs": [
    {
     "name": "stdout",
     "output_type": "stream",
     "text": [
      "train data(x_train) 개수:  (499, 9)\n",
      "test data(x_test) 개수:  (215, 9)\n"
     ]
    }
   ],
   "source": [
    "# 변수 정의\n",
    "# 독립변수 x\n",
    "x = ndf[['pclass', 'age', 'sibsp', 'parch', 'female', 'male', 'town_C', 'town_Q', 'town_S']]\n",
    "# 종속변수 y\n",
    "y = ndf['survived']\n",
    "\n",
    "# 독립 변수 데이터를 정규화(normalization)\n",
    "# 데이터의 상대적 크기 차이를 없애기 위하여 정규화\n",
    "from sklearn import preprocessing\n",
    "\n",
    "x = preprocessing.StandardScaler().fit(x).transform(x)\n",
    "\n",
    "# train data 와 test data로 분할(7:3 비율)\n",
    "from sklearn.model_selection import train_test_split\n",
    "\n",
    "x_train, x_test, y_train, y_test = train_test_split(\n",
    "    # 독립변수, 종속변수\n",
    "    x, y\n",
    "    # test data 비율 설정\n",
    "    , test_size=0.3\n",
    "    # 난수 seed 설정\n",
    "    , random_state=10\n",
    ")\n",
    "\n",
    "print('train data(x_train) 개수: ', x_train.shape)\n",
    "print('test data(x_test) 개수: ', x_test.shape)"
   ]
  },
  {
   "cell_type": "code",
   "execution_count": 49,
   "metadata": {},
   "outputs": [
    {
     "name": "stdout",
     "output_type": "stream",
     "text": [
      "예측값(y_hat):  [0 0 1 0 0 1 1 1 0 0]\n",
      "실제값(y_test):  [0 0 1 0 0 1 1 1 0 0]\n"
     ]
    }
   ],
   "source": [
    "# sklearn 라이브러리에서 KNN 분류 모델 가져오기\n",
    "from sklearn.neighbors import KNeighborsClassifier\n",
    "\n",
    "# KNN 모델 객체 생성 (k=5로 설정)\n",
    "knn = KNeighborsClassifier(n_neighbors=5)\n",
    "\n",
    "# train data를 가지고 모델 학습\n",
    "knn.fit(x_train, y_train)\n",
    "\n",
    "# test data를 가지고 y_hat을 예측 (분류)\n",
    "# 예측값 구하기\n",
    "y_hat = knn.predict(x_test)\n",
    "\n",
    "# 첫 10개의 예측값(y_hat)과 실제값(y_test) 비교 : 10개 모두 일치함 (0:사망자, 1:생존자)\n",
    "print('예측값(y_hat): ', y_hat[0:10])\n",
    "print('실제값(y_test): ', y_test.values[0:10])"
   ]
  },
  {
   "cell_type": "code",
   "execution_count": 50,
   "metadata": {},
   "outputs": [
    {
     "name": "stdout",
     "output_type": "stream",
     "text": [
      "혼돈 행렬: \n",
      " [[109  16]\n",
      " [ 25  65]]\n"
     ]
    }
   ],
   "source": [
    "# KNN 모델 성능 평가\n",
    "from sklearn import metrics\n",
    "\n",
    "# 혼돈 행렬\n",
    "knn_matrix = metrics.confusion_matrix(y_test, y_hat)\n",
    "print('혼돈 행렬: \\n', knn_matrix)"
   ]
  },
  {
   "cell_type": "code",
   "execution_count": 51,
   "metadata": {},
   "outputs": [
    {
     "name": "stdout",
     "output_type": "stream",
     "text": [
      "평가지표 계산(knn): \n",
      "               precision    recall  f1-score   support\n",
      "\n",
      "           0       0.81      0.87      0.84       125\n",
      "           1       0.80      0.72      0.76        90\n",
      "\n",
      "    accuracy                           0.81       215\n",
      "   macro avg       0.81      0.80      0.80       215\n",
      "weighted avg       0.81      0.81      0.81       215\n",
      "\n"
     ]
    }
   ],
   "source": [
    "# 모델 성능평가 지표 출력 (KNN 모델 성능 평가, 평가지표 계산)\n",
    "knn_report = metrics.classification_report(y_test, y_hat)\n",
    "print('평가지표 계산(knn): \\n',knn_report)"
   ]
  },
  {
   "cell_type": "markdown",
   "metadata": {},
   "source": [
    "***"
   ]
  },
  {
   "cell_type": "markdown",
   "metadata": {},
   "source": [
    "## 서포트 벡터 머신 (Support Vector Machine)\n",
    " 1. 분류 및 회귀 모두 사용 가능핚 지도 학습 알고리즘\n",
    " 2. 분할선부터 근접 샘플 데이터까지 마진을 최대화하는 직선을 가장 좋은 분할선으로 여김\n",
    " 3. 서포트 벡터 머신은 학습 데이터의 노이즈에 강하고 분류 성능이 매우 좋다는 특징\n",
    " 4. 다른 알고리즘에 비교하면 학습 데이터 개수도 많이 필요하지 않음"
   ]
  },
  {
   "cell_type": "markdown",
   "metadata": {},
   "source": [
    "### svm_classification.py"
   ]
  },
  {
   "cell_type": "code",
   "execution_count": 23,
   "metadata": {},
   "outputs": [
    {
     "name": "stdout",
     "output_type": "stream",
     "text": [
      "   survived  pclass     sex   age  sibsp  parch     fare embarked  class  \\\n",
      "0         0       3    male  22.0      1      0   7.2500        S  Third   \n",
      "1         1       1  female  38.0      1      0  71.2833        C  First   \n",
      "2         1       3  female  26.0      0      0   7.9250        S  Third   \n",
      "3         1       1  female  35.0      1      0  53.1000        S  First   \n",
      "4         0       3    male  35.0      0      0   8.0500        S  Third   \n",
      "\n",
      "     who  adult_male deck  embark_town alive  alone  \n",
      "0    man        True  NaN  Southampton    no  False  \n",
      "1  woman       False    C    Cherbourg   yes  False  \n",
      "2  woman       False  NaN  Southampton   yes   True  \n",
      "3  woman       False    C  Southampton   yes  False  \n",
      "4    man        True  NaN  Southampton    no   True  \n",
      "\n",
      "<class 'pandas.core.frame.DataFrame'>\n",
      "RangeIndex: 891 entries, 0 to 890\n",
      "Data columns (total 15 columns):\n",
      "survived       891 non-null int64\n",
      "pclass         891 non-null int64\n",
      "sex            891 non-null object\n",
      "age            714 non-null float64\n",
      "sibsp          891 non-null int64\n",
      "parch          891 non-null int64\n",
      "fare           891 non-null float64\n",
      "embarked       889 non-null object\n",
      "class          891 non-null category\n",
      "who            891 non-null object\n",
      "adult_male     891 non-null bool\n",
      "deck           203 non-null category\n",
      "embark_town    889 non-null object\n",
      "alive          891 non-null object\n",
      "alone          891 non-null bool\n",
      "dtypes: bool(2), category(2), float64(2), int64(4), object(5)\n",
      "memory usage: 80.6+ KB\n"
     ]
    }
   ],
   "source": [
    "# svm_classification.py\n",
    "\n",
    "# 기본 라이브러리 호출\n",
    "import pandas as pd\n",
    "import seaborn as sns\n",
    "\n",
    "# load_dataset 함수로 titanic 데이터를 읽어와서 데이터프레임으로 변환\n",
    "df = sns.load_dataset('titanic')\n",
    "\n",
    "# 데이터 살펴보기\n",
    "print(df.head()); print()\n",
    "df.info()"
   ]
  },
  {
   "cell_type": "code",
   "execution_count": 24,
   "metadata": {},
   "outputs": [
    {
     "name": "stdout",
     "output_type": "stream",
     "text": [
      "     survived  pclass     sex   age  sibsp  parch     fare embarked   class  \\\n",
      "0           0       3    male  22.0      1      0   7.2500        S   Third   \n",
      "1           1       1  female  38.0      1      0  71.2833        C   First   \n",
      "2           1       3  female  26.0      0      0   7.9250        S   Third   \n",
      "3           1       1  female  35.0      1      0  53.1000        S   First   \n",
      "4           0       3    male  35.0      0      0   8.0500        S   Third   \n",
      "..        ...     ...     ...   ...    ...    ...      ...      ...     ...   \n",
      "886         0       2    male  27.0      0      0  13.0000        S  Second   \n",
      "887         1       1  female  19.0      0      0  30.0000        S   First   \n",
      "888         0       3  female   NaN      1      2  23.4500        S   Third   \n",
      "889         1       1    male  26.0      0      0  30.0000        C   First   \n",
      "890         0       3    male  32.0      0      0   7.7500        Q   Third   \n",
      "\n",
      "       who  adult_male deck  embark_town alive  alone  \n",
      "0      man        True  NaN  Southampton    no  False  \n",
      "1    woman       False    C    Cherbourg   yes  False  \n",
      "2    woman       False  NaN  Southampton   yes   True  \n",
      "3    woman       False    C  Southampton   yes  False  \n",
      "4      man        True  NaN  Southampton    no   True  \n",
      "..     ...         ...  ...          ...   ...    ...  \n",
      "886    man        True  NaN  Southampton    no   True  \n",
      "887  woman       False    B  Southampton   yes   True  \n",
      "888  woman       False  NaN  Southampton    no  False  \n",
      "889    man        True    C    Cherbourg   yes   True  \n",
      "890    man        True  NaN   Queenstown    no   True  \n",
      "\n",
      "[891 rows x 15 columns]\n"
     ]
    }
   ],
   "source": [
    "# IPython 디스플레이 설정 - 출력할 열의 개수를 15개로 늘리기\n",
    "pd.set_option('display.max_columns', 15)\n",
    "print(df)"
   ]
  },
  {
   "cell_type": "code",
   "execution_count": 26,
   "metadata": {},
   "outputs": [
    {
     "name": "stdout",
     "output_type": "stream",
     "text": [
      "<class 'pandas.core.frame.DataFrame'>\n",
      "RangeIndex: 891 entries, 0 to 890\n",
      "Data columns (total 15 columns):\n",
      "survived       891 non-null int64\n",
      "pclass         891 non-null int64\n",
      "sex            891 non-null object\n",
      "age            714 non-null float64\n",
      "sibsp          891 non-null int64\n",
      "parch          891 non-null int64\n",
      "fare           891 non-null float64\n",
      "embarked       889 non-null object\n",
      "class          891 non-null category\n",
      "who            891 non-null object\n",
      "adult_male     891 non-null bool\n",
      "deck           203 non-null category\n",
      "embark_town    889 non-null object\n",
      "alive          891 non-null object\n",
      "alone          891 non-null bool\n",
      "dtypes: bool(2), category(2), float64(2), int64(4), object(5)\n",
      "memory usage: 80.6+ KB\n"
     ]
    }
   ],
   "source": [
    "# 데이터 자료형 확인 : 데이터를 확인하고 NaN이 많은 열 삭제\n",
    "df.info()\n",
    "#  11  deck         203 non-null    category\n",
    "# NaN값이 많은 deck(배의 갑판)열을 삭제\n",
    "# embarked(승선)와 내용이 겹치는 embark_town(승선 도시) 열을 삭제"
   ]
  },
  {
   "cell_type": "markdown",
   "metadata": {},
   "source": [
    "- 11  deck         203 non-null    category\n",
    "  \n",
    "- NaN값이 많은 deck(배의 갑판)열을 삭제\n",
    " \n",
    "- embarked(승선)와 내용이 겹치는 embark_town(승선 도시) 열을 삭제"
   ]
  },
  {
   "cell_type": "code",
   "execution_count": 27,
   "metadata": {},
   "outputs": [
    {
     "name": "stdout",
     "output_type": "stream",
     "text": [
      "['survived' 'pclass' 'sex' 'age' 'sibsp' 'parch' 'fare' 'embarked' 'class'\n",
      " 'who' 'adult_male' 'alive' 'alone']\n"
     ]
    }
   ],
   "source": [
    "#  11  deck         203 non-null    category\n",
    "# NaN값이 많은 deck(배의 갑판)열을 삭제\n",
    "# embarked(승선)와 내용이 겹치는 embark_town(승선 도시) 열을 삭제\n",
    "rdf = df.drop(['deck', 'embark_town'], axis=1)\n",
    "print(rdf.columns.values)\n",
    "# ['survived' 'pclass' 'sex' 'age' 'sibsp' 'parch' 'fare' 'embarked' 'class' 'who' 'adult_male' 'alive' 'alone']"
   ]
  },
  {
   "cell_type": "code",
   "execution_count": 28,
   "metadata": {},
   "outputs": [
    {
     "name": "stdout",
     "output_type": "stream",
     "text": [
      "714\n"
     ]
    }
   ],
   "source": [
    "# 승객의 나이를 나타내는 age 열에 누락 데이터가 177개, 누락 데이터가 있는 행을 모두 삭제\n",
    "# 나이 데이터가 있는 714명의 승객만을 분석\n",
    "rdf = rdf.dropna(subset=['age'], how='any', axis=0)\n",
    "print(len(rdf))\n",
    "# 714"
   ]
  },
  {
   "cell_type": "code",
   "execution_count": 29,
   "metadata": {},
   "outputs": [
    {
     "name": "stdout",
     "output_type": "stream",
     "text": [
      "S\n"
     ]
    }
   ],
   "source": [
    "# embarked 열의 데이터는 승객들이 타이타닉호에 탑승한 도시명의 첫 글자\n",
    "# embarked 열의 NaN값을 승선도시 중에서 가장 많은 값으로 치환하기 (S)\n",
    "most_freq = rdf['embarked'].value_counts(dropna=True).idxmax()\n",
    "print(most_freq)\n",
    "# S"
   ]
  },
  {
   "cell_type": "code",
   "execution_count": 30,
   "metadata": {},
   "outputs": [
    {
     "name": "stdout",
     "output_type": "stream",
     "text": [
      "<class 'pandas.core.frame.DataFrame'>\n",
      "Int64Index: 714 entries, 0 to 890\n",
      "Data columns (total 7 columns):\n",
      "survived    714 non-null int64\n",
      "pclass      714 non-null int64\n",
      "sex         714 non-null object\n",
      "age         714 non-null float64\n",
      "sibsp       714 non-null int64\n",
      "parch       714 non-null int64\n",
      "embarked    714 non-null object\n",
      "dtypes: float64(1), int64(4), object(2)\n",
      "memory usage: 44.6+ KB\n"
     ]
    }
   ],
   "source": [
    "# embarked 열에 fillna() 함수를 사용하여 누락 데이터(NaN)를 S로 치환\n",
    "rdf['embarked'].fillna(most_freq, inplace=True)\n",
    "\n",
    "# 분석에 사용할 열(속성)을 선택\n",
    "ndf = rdf[['survived', 'pclass', 'sex', 'age', 'sibsp', 'parch', 'embarked']]\n",
    "ndf.info()"
   ]
  },
  {
   "cell_type": "code",
   "execution_count": 31,
   "metadata": {},
   "outputs": [
    {
     "name": "stdout",
     "output_type": "stream",
     "text": [
      "<class 'pandas.core.frame.DataFrame'>\n",
      "Int64Index: 714 entries, 0 to 890\n",
      "Data columns (total 10 columns):\n",
      "survived    714 non-null int64\n",
      "pclass      714 non-null int64\n",
      "age         714 non-null float64\n",
      "sibsp       714 non-null int64\n",
      "parch       714 non-null int64\n",
      "female      714 non-null uint8\n",
      "male        714 non-null uint8\n",
      "town_C      714 non-null uint8\n",
      "town_Q      714 non-null uint8\n",
      "town_S      714 non-null uint8\n",
      "dtypes: float64(1), int64(4), uint8(5)\n",
      "memory usage: 37.0 KB\n"
     ]
    }
   ],
   "source": [
    "# KNN모델을 적용하기 위해 sex열과 embarked열의 범주형 데이터를 숫자형으로 변환\n",
    "# 원핫인코딩 - 범주형 데이터를 모델이 인식할 수 있도록 숫자형으로 변환\n",
    "# sex 열은 male과 female을 열 이름으로 갖는 2개의 더미 변수 열이 생성\n",
    "# concat()함수를 이용하여 더미 변수를 기존 데이터프레임에 연결\n",
    "onehot_sex = pd.get_dummies(ndf['sex'])\n",
    "ndf = pd.concat([ndf, onehot_sex], axis=1)\n",
    "\n",
    "# embarked 3개의 더미 변수(town_X) 열 생성\n",
    "# prefix='town' 옵션을 사용 (town_C, town_Q, town_S)\n",
    "onehot_embarked = pd.get_dummies(ndf['embarked'], prefix='town')\n",
    "ndf = pd.concat([ndf, onehot_embarked], axis=1)\n",
    "\n",
    "# 기존 sex열과 embarked열 삭제\n",
    "ndf.drop(['sex', 'embarked'], axis=1, inplace=True)\n",
    "# 수정 내용 확인\n",
    "ndf.info()"
   ]
  },
  {
   "cell_type": "code",
   "execution_count": 32,
   "metadata": {},
   "outputs": [
    {
     "name": "stdout",
     "output_type": "stream",
     "text": [
      "train data 개수:  (499, 9)\n",
      "test data 개수:  (215, 9)\n"
     ]
    }
   ],
   "source": [
    "# 독립 변수 x 새로 정의\n",
    "x = ndf[['pclass', 'age', 'sibsp', 'parch'\n",
    "    , 'female', 'male'\n",
    "    , 'town_C', 'town_Q', 'town_S']]\n",
    "# 종속 변수 y\n",
    "y = ndf['survived']\n",
    "\n",
    "# 독립 변수 데이터를 정규화(normalization)\n",
    "# 데이터의 상대적 크기 차이를 없애기 위하여 정규화\n",
    "\n",
    "from sklearn import preprocessing\n",
    "x = preprocessing.StandardScaler().fit(x).transform(x)\n",
    "\n",
    "# train data 와 test data 분할(7:3 비율)\n",
    "from sklearn.model_selection import train_test_split\n",
    "x_train, x_test, y_train, y_test = train_test_split(x, y\n",
    "                                                    , test_size=0.3\n",
    "                                                    , random_state=10)\n",
    "\n",
    "print('train data 개수: ', x_train.shape)\n",
    "print('test data 개수: ', x_test.shape)"
   ]
  },
  {
   "cell_type": "code",
   "execution_count": 36,
   "metadata": {},
   "outputs": [
    {
     "name": "stdout",
     "output_type": "stream",
     "text": [
      "예측값(y_hat[0:10]):\n",
      " [0 0 1 0 0 0 1 0 0 0]\n",
      "실제값(y_test.values[0:10]):\n",
      " [0 0 1 0 0 1 1 1 0 0]\n"
     ]
    },
    {
     "name": "stderr",
     "output_type": "stream",
     "text": [
      "C:\\ProgramData\\Anaconda3\\lib\\site-packages\\sklearn\\svm\\base.py:193: FutureWarning: The default value of gamma will change from 'auto' to 'scale' in version 0.22 to account better for unscaled features. Set gamma explicitly to 'auto' or 'scale' to avoid this warning.\n",
      "  \"avoid this warning.\", FutureWarning)\n"
     ]
    }
   ],
   "source": [
    "# sklearn 라이브러리에서 SVM 분류 모델 가져오기\n",
    "from sklearn import svm\n",
    "\n",
    "# SVC 모델 객체 생성 (kernel='rbf' 적용)\n",
    "svm_model = svm.SVC(kernel='rbf')\n",
    "\n",
    "# train data를 이용하여 모델 학습\n",
    "svm_model.fit(x_train, y_train)\n",
    "\n",
    "# test data를 이용해서 y_hat을 예측 (분류)\n",
    "# 예측값 구하기\n",
    "y_hat = svm_model.predict(x_test)\n",
    "\n",
    "# 첫 10개의 예측값(y_hat)과 실제값(y_test) 비교\n",
    "# 8개 일치함( 0:사망자, 1:생존자)\n",
    "print('예측값(y_hat[0:10]):\\n', y_hat[0:10])\n",
    "print('실제값(y_test.values[0:10]):\\n', y_test.values[0:10])"
   ]
  },
  {
   "cell_type": "code",
   "execution_count": 34,
   "metadata": {},
   "outputs": [
    {
     "name": "stdout",
     "output_type": "stream",
     "text": [
      "혼동 행렬:\n",
      " [[120   5]\n",
      " [ 35  55]]\n"
     ]
    }
   ],
   "source": [
    "# SVM모델 성능 평가 - Confusion Matrix(혼동 행렬) 계산\n",
    "from sklearn import metrics\n",
    "svm_matrix = metrics.confusion_matrix(y_test, y_hat)\n",
    "print('혼동 행렬:\\n', svm_matrix)"
   ]
  },
  {
   "cell_type": "markdown",
   "metadata": {},
   "source": [
    "    P  N\n",
    "\n",
    " P [[120   5]\n",
    "\n",
    " N [ 35  55]]\n",
    "- TP(True Positive) : 215명의 승객 중에서 사망자를 정확히 분류한 것이 120명\n",
    "- FP(False Positive) : 생존자를 사망자로 잘못 분류한 것이 35명\n",
    "- FN(False Negative) : 사망자를 생존자로 잘못 분류한 것이 5명\n",
    "- TN(True Negative) : 생존자를 정확하게 분류한 것이 55명"
   ]
  },
  {
   "cell_type": "code",
   "execution_count": 35,
   "metadata": {},
   "outputs": [
    {
     "name": "stdout",
     "output_type": "stream",
     "text": [
      "svm 모델 성능평가(svm_report):\n",
      "               precision    recall  f1-score   support\n",
      "\n",
      "           0       0.77      0.96      0.86       125\n",
      "           1       0.92      0.61      0.73        90\n",
      "\n",
      "    accuracy                           0.81       215\n",
      "   macro avg       0.85      0.79      0.80       215\n",
      "weighted avg       0.83      0.81      0.81       215\n",
      "\n"
     ]
    }
   ],
   "source": [
    "# SVM모델 성능 평가 - 평가지표 계산\n",
    "svm_report = metrics.classification_report(y_test, y_hat)\n",
    "print('svm 모델 성능평가(svm_report):\\n', svm_report)"
   ]
  },
  {
   "cell_type": "markdown",
   "metadata": {},
   "source": [
    "- f1지표(f1-score)는 모델의 예측력을 종합적으로 평가하는 지표\n",
    "- f1-score 지표를 보면 사망자(0) 예측의 정확도가 0.86이고, \n",
    "- 생존자(1) 예측의 정확도는 0.73으로 예측 능력에 차이가 존재\n",
    "- 전반적으로 KNN모델의 예측 능력과 큰 차이가 없음"
   ]
  },
  {
   "cell_type": "markdown",
   "metadata": {},
   "source": [
    "평가지표 계산(knn): \n",
    "\n",
    "               precision    recall  f1-score   support\n",
    "\n",
    "           0       0.81      0.87      0.84       125\n",
    "           1       0.80      0.72      0.76        90\n",
    "\n",
    "    accuracy                           0.81       215\n",
    "    macro avg       0.81      0.80      0.80       215\n",
    "   \n",
    "    weighted avg       0.81      0.81      0.81       215"
   ]
  },
  {
   "cell_type": "markdown",
   "metadata": {},
   "source": [
    "***\n",
    "## 결정 트리(Decision Tree) 알고리즘\n",
    " 1. 데이터를 여러 등급으로 분류하는 지도 학습 중의 하나이며 트리 구조를 이용한 분류 알고리즘\n",
    " 2. 학습 데이터에서 트리 모델을 생성\n",
    "> 무엇을 기준으로 분기할지에 따라 결정 트리는 몇 가지 방법으로 분류 가능\n",
    " 3. 결정 트리의 장점은 분류 규칙을 트리 모델로 가시화 가능한 것과 분류 결과의 해석이 비교적 용이하다는 것\n",
    " 4. 생성한 분류 규칙 편집 가능, 학습을 위한 계산 비용도 저렴한 편\n",
    " 5. 결정 트리는 과적합 하는 경향이 있고 취급하는 데이터의 특성에 따라 트리 모델을 생성하기 어려움\n",
    " 6. 결정 트리의 과적합 경향으로 인해 결정 트리 단독 사용 대신 앙상블 학습을 조합하여 사용하는 경우가 많음"
   ]
  },
  {
   "cell_type": "markdown",
   "metadata": {},
   "source": [
    "### tree_classification.py\n",
    "> UCI(University of California, Irvine) 머신러닝 저장소에서 제공하는 암세포 진단(breast cancer) 데이터셋을 이용하여 악성종양 여부를 Decision Tree 알고리즘 으로 분류"
   ]
  },
  {
   "cell_type": "code",
   "execution_count": 54,
   "metadata": {},
   "outputs": [
    {
     "name": "stdout",
     "output_type": "stream",
     "text": [
      "          0   1   2   3   4   5   6   7   8   9   10\n",
      "0    1000025   5   1   1   1   2   1   3   1   1   2\n",
      "1    1002945   5   4   4   5   7  10   3   2   1   2\n",
      "2    1015425   3   1   1   1   2   2   3   1   1   2\n",
      "3    1016277   6   8   8   1   3   4   3   7   1   2\n",
      "4    1017023   4   1   1   3   2   1   3   1   1   2\n",
      "..       ...  ..  ..  ..  ..  ..  ..  ..  ..  ..  ..\n",
      "694   776715   3   1   1   1   3   2   1   1   1   2\n",
      "695   841769   2   1   1   1   2   1   1   1   1   2\n",
      "696   888820   5  10  10   3   7   3   8  10   2   4\n",
      "697   897471   4   8   6   4   3   4  10   6   1   4\n",
      "698   897471   4   8   8   5   4   5  10   4   1   4\n",
      "\n",
      "[699 rows x 11 columns]\n"
     ]
    }
   ],
   "source": [
    "# tree_classification.py\n",
    "\n",
    "import pandas as pd\n",
    "import numpy as np\n",
    "\n",
    "# UCI 저장소에서 암세포 진단(Breast Cancer) 데이터셋 가져오기\n",
    "uci_path = 'https://archive.ics.uci.edu/ml/' \\\n",
    "           'machine-learning-databases/' \\\n",
    "           'breast-cancer-wisconsin/' \\\n",
    "           'breast-cancer-wisconsin.data'\n",
    "df = pd.read_csv(uci_path, header=None)\n",
    "print(df)\n",
    "# [699 rows x 11 columns]"
   ]
  },
  {
   "cell_type": "code",
   "execution_count": 55,
   "metadata": {},
   "outputs": [
    {
     "name": "stdout",
     "output_type": "stream",
     "text": [
      "          id  clump  cell_size  cell_shape  adhesion  epithlial bare_nuclei  \\\n",
      "0    1000025      5          1           1         1          2           1   \n",
      "1    1002945      5          4           4         5          7          10   \n",
      "2    1015425      3          1           1         1          2           2   \n",
      "3    1016277      6          8           8         1          3           4   \n",
      "4    1017023      4          1           1         3          2           1   \n",
      "..       ...    ...        ...         ...       ...        ...         ...   \n",
      "694   776715      3          1           1         1          3           2   \n",
      "695   841769      2          1           1         1          2           1   \n",
      "696   888820      5         10          10         3          7           3   \n",
      "697   897471      4          8           6         4          3           4   \n",
      "698   897471      4          8           8         5          4           5   \n",
      "\n",
      "     chromatin  normal_nucleoli  mitoses  class  \n",
      "0            3                1        1      2  \n",
      "1            3                2        1      2  \n",
      "2            3                1        1      2  \n",
      "3            3                7        1      2  \n",
      "4            3                1        1      2  \n",
      "..         ...              ...      ...    ...  \n",
      "694          1                1        1      2  \n",
      "695          1                1        1      2  \n",
      "696          8               10        2      4  \n",
      "697         10                6        1      4  \n",
      "698         10                4        1      4  \n",
      "\n",
      "[699 rows x 11 columns]\n"
     ]
    }
   ],
   "source": [
    "# 11개의 열 이름 지정\n",
    "df.columns = ['id','clump','cell_size','cell_shape', 'adhesion','epithlial'\n",
    "    , 'bare_nuclei','chromatin','normal_nucleoli', 'mitoses', 'class']\n",
    "\n",
    "# IPython 디스플레이 설정 - 출력할 열의 개수 한도 늘리기\n",
    "pd.set_option('display.max_columns', 15)\n",
    "print(df)"
   ]
  },
  {
   "cell_type": "code",
   "execution_count": 56,
   "metadata": {},
   "outputs": [
    {
     "name": "stdout",
     "output_type": "stream",
     "text": [
      "<class 'pandas.core.frame.DataFrame'>\n",
      "RangeIndex: 699 entries, 0 to 698\n",
      "Data columns (total 11 columns):\n",
      "id                 699 non-null int64\n",
      "clump              699 non-null int64\n",
      "cell_size          699 non-null int64\n",
      "cell_shape         699 non-null int64\n",
      "adhesion           699 non-null int64\n",
      "epithlial          699 non-null int64\n",
      "bare_nuclei        699 non-null object\n",
      "chromatin          699 non-null int64\n",
      "normal_nucleoli    699 non-null int64\n",
      "mitoses            699 non-null int64\n",
      "class              699 non-null int64\n",
      "dtypes: int64(10), object(1)\n",
      "memory usage: 60.2+ KB\n"
     ]
    }
   ],
   "source": [
    "# 데이터 자료형 확인\n",
    "df.info()\n",
    "\n",
    "# 6   bare_nuclei      699 non-null    object"
   ]
  },
  {
   "cell_type": "code",
   "execution_count": 59,
   "metadata": {},
   "outputs": [
    {
     "name": "stdout",
     "output_type": "stream",
     "text": [
      "                 id       clump   cell_size  cell_shape    adhesion  \\\n",
      "count  6.990000e+02  699.000000  699.000000  699.000000  699.000000   \n",
      "mean   1.071704e+06    4.417740    3.134478    3.207439    2.806867   \n",
      "std    6.170957e+05    2.815741    3.051459    2.971913    2.855379   \n",
      "min    6.163400e+04    1.000000    1.000000    1.000000    1.000000   \n",
      "25%    8.706885e+05    2.000000    1.000000    1.000000    1.000000   \n",
      "50%    1.171710e+06    4.000000    1.000000    1.000000    1.000000   \n",
      "75%    1.238298e+06    6.000000    5.000000    5.000000    4.000000   \n",
      "max    1.345435e+07   10.000000   10.000000   10.000000   10.000000   \n",
      "\n",
      "        epithlial   chromatin  normal_nucleoli     mitoses       class  \n",
      "count  699.000000  699.000000       699.000000  699.000000  699.000000  \n",
      "mean     3.216023    3.437768         2.866953    1.589413    2.689557  \n",
      "std      2.214300    2.438364         3.053634    1.715078    0.951273  \n",
      "min      1.000000    1.000000         1.000000    1.000000    2.000000  \n",
      "25%      2.000000    2.000000         1.000000    1.000000    2.000000  \n",
      "50%      2.000000    3.000000         1.000000    1.000000    2.000000  \n",
      "75%      4.000000    5.000000         4.000000    1.000000    4.000000  \n",
      "max     10.000000   10.000000        10.000000   10.000000    4.000000  \n",
      "\n",
      "['1' '10' '2' '4' '3' '9' '7' '?' '5' '8' '6']\n"
     ]
    }
   ],
   "source": [
    "# 데이터 통계 요약정보 확인 : bare_nuclei 열은 출력 안 됨 (10개의 열만 출력)\n",
    "print(df.describe()); print()\n",
    "\n",
    "# bare_nuclei 열의 고유값 확인(unique())\n",
    "# bare_nuclei 열은 ? 데이터가 포함되어 있음\n",
    "print(df['bare_nuclei'].unique())\n",
    "# ['1' '10' '2' '4' '3' '9' '7' '?' '5' '8' '6']"
   ]
  },
  {
   "cell_type": "code",
   "execution_count": 60,
   "metadata": {},
   "outputs": [
    {
     "name": "stdout",
     "output_type": "stream",
     "text": [
      "                 id       clump   cell_size  cell_shape    adhesion  \\\n",
      "count  6.830000e+02  683.000000  683.000000  683.000000  683.000000   \n",
      "mean   1.076720e+06    4.442167    3.150805    3.215227    2.830161   \n",
      "std    6.206440e+05    2.820761    3.065145    2.988581    2.864562   \n",
      "min    6.337500e+04    1.000000    1.000000    1.000000    1.000000   \n",
      "25%    8.776170e+05    2.000000    1.000000    1.000000    1.000000   \n",
      "50%    1.171795e+06    4.000000    1.000000    1.000000    1.000000   \n",
      "75%    1.238705e+06    6.000000    5.000000    5.000000    4.000000   \n",
      "max    1.345435e+07   10.000000   10.000000   10.000000   10.000000   \n",
      "\n",
      "        epithlial  bare_nuclei   chromatin  normal_nucleoli     mitoses  \\\n",
      "count  683.000000   683.000000  683.000000       683.000000  683.000000   \n",
      "mean     3.234261     3.544656    3.445095         2.869693    1.603221   \n",
      "std      2.223085     3.643857    2.449697         3.052666    1.732674   \n",
      "min      1.000000     1.000000    1.000000         1.000000    1.000000   \n",
      "25%      2.000000     1.000000    2.000000         1.000000    1.000000   \n",
      "50%      2.000000     1.000000    3.000000         1.000000    1.000000   \n",
      "75%      4.000000     6.000000    5.000000         4.000000    1.000000   \n",
      "max     10.000000    10.000000   10.000000        10.000000   10.000000   \n",
      "\n",
      "            class  \n",
      "count  683.000000  \n",
      "mean     2.699854  \n",
      "std      0.954592  \n",
      "min      2.000000  \n",
      "25%      2.000000  \n",
      "50%      2.000000  \n",
      "75%      4.000000  \n",
      "max      4.000000  \n",
      "\n",
      "<class 'pandas.core.frame.DataFrame'>\n",
      "Int64Index: 683 entries, 0 to 698\n",
      "Data columns (total 11 columns):\n",
      "id                 683 non-null int64\n",
      "clump              683 non-null int64\n",
      "cell_size          683 non-null int64\n",
      "cell_shape         683 non-null int64\n",
      "adhesion           683 non-null int64\n",
      "epithlial          683 non-null int64\n",
      "bare_nuclei        683 non-null int32\n",
      "chromatin          683 non-null int64\n",
      "normal_nucleoli    683 non-null int64\n",
      "mitoses            683 non-null int64\n",
      "class              683 non-null int64\n",
      "dtypes: int32(1), int64(10)\n",
      "memory usage: 61.4 KB\n"
     ]
    }
   ],
   "source": [
    "# bare_nuclei 열의 '?' 를 누락데이터(np.NaN)으로 변경\n",
    "df['bare_nuclei'].replace('?', np.NaN, inplace=True)\n",
    "\n",
    "# 누락데이터 행 삭제\n",
    "df.dropna(subset=['bare_nuclei'], axis=0, inplace=True)\n",
    "\n",
    "# bare_nuclei 열의 자료형 변경 (문자열 -> 숫자)\n",
    "df['bare_nuclei'] = df['bare_nuclei'].astype('int')\n",
    "\n",
    "# 데이터 통계 요약정보 확인\n",
    "print(df.describe()); print()\n",
    "\n",
    "# 수정된 자료형 확인\n",
    "df.info()\n",
    "# 6   bare_nuclei      683 non-null    int32"
   ]
  },
  {
   "cell_type": "code",
   "execution_count": 61,
   "metadata": {},
   "outputs": [
    {
     "name": "stdout",
     "output_type": "stream",
     "text": [
      "y: \n",
      " 0      2\n",
      "1      2\n",
      "2      2\n",
      "3      2\n",
      "4      2\n",
      "      ..\n",
      "694    2\n",
      "695    2\n",
      "696    4\n",
      "697    4\n",
      "698    4\n",
      "Name: class, Length: 683, dtype: int64\n"
     ]
    }
   ],
   "source": [
    "# 분석에 사용할 속성(변수) 선택\n",
    "# 독립변수 x (설명변수)\n",
    "x = df[['clump','cell_size','cell_shape', 'adhesion','epithlial'\n",
    "    , 'bare_nuclei','chromatin','normal_nucleoli', 'mitoses']]\n",
    "\n",
    "# 종속변수 y (예측변수)\n",
    "y = df['class']\n",
    "# class (2: benign(양성), 4: malignant(악성))\n",
    "print('y: \\n', y)"
   ]
  },
  {
   "cell_type": "code",
   "execution_count": 62,
   "metadata": {},
   "outputs": [
    {
     "name": "stdout",
     "output_type": "stream",
     "text": [
      "train data 개수:  (478, 9)\n",
      "test data 개수:  (205, 9)\n"
     ]
    }
   ],
   "source": [
    "# 설명 변수 데이터를 정규화\n",
    "from sklearn import preprocessing\n",
    "x = preprocessing.StandardScaler().fit(x).transform(x)\n",
    "\n",
    "# train data 와 test data로 구분(7:3 비율)\n",
    "from sklearn.model_selection import train_test_split\n",
    "\n",
    "x_train, x_test, y_train, y_test = train_test_split(x, y\n",
    "                                                    , test_size=0.3\n",
    "                                                    , random_state=10)\n",
    "\n",
    "print('train data 개수: ', x_train.shape)\n",
    "print('test data 개수: ', x_test.shape)"
   ]
  },
  {
   "cell_type": "code",
   "execution_count": 64,
   "metadata": {},
   "outputs": [
    {
     "name": "stdout",
     "output_type": "stream",
     "text": [
      "y_hat:\n",
      " [4 4 4 4 4 4 2 2 4 4 4 2 2 4 4 2 2 4 2 4 2 2 2 2 4 2 2 2 2 2 2 4 4 4 2 4 4\n",
      " 4 2 2 4 2 4 2 4 2 4 2 2 2 2 2 2 2 2 2 4 4 2 4 2 2 2 4 2 2 2 2 2 2 2 2 4 2\n",
      " 2 2 2 2 2 2 2 2 2 2 4 4 2 2 2 2 4 2 2 2 2 2 2 2 2 2 4 2 4 4 2 2 2 2 4 2 4\n",
      " 2 2 4 2 2 4 2 2 4 2 4 2 4 4 4 4 2 4 2 2 2 2 2 4 4 4 4 2 4 4 2 2 2 4 4 2 4\n",
      " 2 2 2 4 2 2 2 4 4 2 2 2 2 2 4 2 4 4 2 4 4 2 2 4 4 2 2 4 2 2 2 2 4 2 2 2 4\n",
      " 2 2 2 2 2 4 2 2 4 2 4 2 4 2 4 4 4 2 4 2]\n",
      "\n",
      "y_test.values:\n",
      " [4 4 4 4 4 4 2 2 4 4 4 2 2 4 4 2 2 4 2 4 2 2 2 2 4 2 2 2 2 2 2 4 4 4 2 4 4\n",
      " 4 2 2 4 2 4 2 4 2 2 2 2 2 2 2 2 2 2 2 4 4 2 4 2 4 2 4 2 2 2 2 2 2 2 2 4 2\n",
      " 2 2 2 2 2 2 2 2 2 2 4 4 2 2 2 2 4 2 2 2 2 2 2 2 2 2 4 2 4 4 2 2 2 2 4 2 4\n",
      " 2 2 4 2 4 4 2 2 2 2 2 2 4 4 4 4 2 4 2 2 2 2 2 4 4 4 4 2 4 4 2 2 2 4 4 2 4\n",
      " 2 2 2 4 2 2 2 4 4 2 2 2 2 2 4 2 4 4 2 4 4 2 2 4 4 2 2 4 2 2 2 2 4 2 2 2 4\n",
      " 2 2 2 2 2 4 2 2 2 2 4 2 4 2 4 4 4 2 4 2]\n"
     ]
    }
   ],
   "source": [
    "# sklearn 라이브러리에서 Decision Tree 분류 모델 가져오기\n",
    "from sklearn import tree\n",
    "\n",
    "# 결정 트리 모델 생성\n",
    "tree_model = tree.DecisionTreeClassifier(criterion='entropy', max_depth=5)\n",
    "# Decision Tree 모델 객체 생성 (criterion='entropy' 적용)\n",
    "# 각 분기점에서 최적의 속성을 찾기 위해 분류 정도를 평가하는 기준으로 entropy 값을 사용\n",
    "# 트리 레벨로 5로 지정(5단계 까지 가지를 확장 가능 의미)\n",
    "# 레벨이 많아질수록 모델 학습에 사용하는 훈련 데이터에 대한 예측은 정확해짐\n",
    "\n",
    "# train data를 가지고 모델 학습\n",
    "tree_model.fit(x_train, y_train)\n",
    "\n",
    "# test data를 가지고 y_hat을 예측 (분류)\n",
    "y_hat = tree_model.predict(x_test)\n",
    "print('y_hat:\\n', y_hat); print()\n",
    "print('y_test.values:\\n', y_test.values)\n",
    "# 2: benign(양성), 4: malignant(악성)"
   ]
  },
  {
   "cell_type": "code",
   "execution_count": 66,
   "metadata": {},
   "outputs": [
    {
     "name": "stdout",
     "output_type": "stream",
     "text": [
      "y_hat:\n",
      " [4 4 4 4 4 4 2 2 4 4]\n",
      "\n",
      "y_test.values:\n",
      " [4 4 4 4 4 4 2 2 4 4]\n"
     ]
    }
   ],
   "source": [
    "# 첫 10개의 예측값(y_hat)과 실제값(y_test) 비교 : 10개 모두 일치함\n",
    "print('y_hat:\\n', y_hat[0:10]); print()\n",
    "print('y_test.values:\\n', y_test.values[0:10])"
   ]
  },
  {
   "cell_type": "code",
   "execution_count": 67,
   "metadata": {},
   "outputs": [
    {
     "name": "stdout",
     "output_type": "stream",
     "text": [
      "y_hat and y_test are the same\n"
     ]
    }
   ],
   "source": [
    "if y_hat.all() == y_test.all():\n",
    "    print('y_hat and y_test are the same')\n",
    "#y_hat and y_test are the same"
   ]
  },
  {
   "cell_type": "code",
   "execution_count": 68,
   "metadata": {},
   "outputs": [
    {
     "name": "stdout",
     "output_type": "stream",
     "text": [
      "혼동행렬: \n",
      " [[127   4]\n",
      " [  2  72]]\n"
     ]
    }
   ],
   "source": [
    "# Decision Tree 모델 성능 평가 - Confusion Matrix(혼동 행렬) 계산\n",
    "from sklearn import metrics\n",
    "tree_matrix = metrics.confusion_matrix(y_test, y_hat)\n",
    "print('혼동행렬: \\n', tree_matrix)"
   ]
  },
  {
   "cell_type": "markdown",
   "metadata": {},
   "source": [
    "혼동행렬: \n",
    "\n",
    "          양성   악성\n",
    "     \n",
    "    양성  [[127   4]\n",
    " \n",
    "    악성  [  2  72]]\n",
    "\n",
    "- 양성 종양의 목표값은 2, 악성 종양은 4\n",
    "- TP(True Positive) : 양성 종양을 정확하게 분류한 것이 127개\n",
    "- FP(False Positive) : 악성 종양을 양성 종양으로 잘못 분류한 것이 2개\n",
    "- FN(False Negative) : 양성 종양을 악성 종양으로 잘못 분류한 것이 4개\n",
    "- TN(True Negative) : 악성 종양을 정확하게 분류한 것이 72개"
   ]
  },
  {
   "cell_type": "code",
   "execution_count": 70,
   "metadata": {},
   "outputs": [
    {
     "name": "stdout",
     "output_type": "stream",
     "text": [
      "tree_report(평가지표 계산):\n",
      "               precision    recall  f1-score   support\n",
      "\n",
      "           2       0.98      0.97      0.98       131\n",
      "           4       0.95      0.97      0.96        74\n",
      "\n",
      "    accuracy                           0.97       205\n",
      "   macro avg       0.97      0.97      0.97       205\n",
      "weighted avg       0.97      0.97      0.97       205\n",
      "\n"
     ]
    }
   ],
   "source": [
    "# Decision Tree 모델 성능 평가 - 평가지표 계산\n",
    "tree_report = metrics.classification_report(y_test, y_hat)\n",
    "print('tree_report(평가지표 계산):\\n', tree_report)"
   ]
  },
  {
   "cell_type": "markdown",
   "metadata": {},
   "source": [
    "- f1지표(f1-score)는 모델의 예측력을 종합적으로 평가하는 지표\n",
    "- f1-score 지표를 보면 양성종양(2) 예측의 정확도가 0.98\n",
    "- 악성종양(4) 예측의 정확도는 0.96으로 예측 능력에 큰 차이가 없음\n",
    "- 평균적으로는 0.97의 정확도를 가짐"
   ]
  },
  {
   "cell_type": "markdown",
   "metadata": {},
   "source": [
    "#### 같은 내용 svm으로 분석 (nottree_svm_classification.py)\n",
    "\n",
    "svm_report(평가지표 계산):\n",
    "\n",
    "                    precision    recall  f1-score   support\n",
    "\n",
    "               2       0.99      0.97      0.98       131\n",
    "               4       0.95      0.99      0.97        74\n",
    "\n",
    "        accuracy                           0.98       205\n",
    "    \n",
    "       macro avg       0.97      0.98      0.97       205\n",
    "    weighted avg       0.98      0.98      0.98       205\n",
    "\n",
    "\n",
    "혼동행렬: \n",
    "\n",
    "          양성   악성\n",
    "     \n",
    "    양성  [[127   4]\n",
    " \n",
    "    악성  [  1  73]]"
   ]
  },
  {
   "cell_type": "code",
   "execution_count": 71,
   "metadata": {},
   "outputs": [
    {
     "name": "stdout",
     "output_type": "stream",
     "text": [
      "          0   1   2   3   4   5   6   7   8   9   10\n",
      "0    1000025   5   1   1   1   2   1   3   1   1   2\n",
      "1    1002945   5   4   4   5   7  10   3   2   1   2\n",
      "2    1015425   3   1   1   1   2   2   3   1   1   2\n",
      "3    1016277   6   8   8   1   3   4   3   7   1   2\n",
      "4    1017023   4   1   1   3   2   1   3   1   1   2\n",
      "..       ...  ..  ..  ..  ..  ..  ..  ..  ..  ..  ..\n",
      "694   776715   3   1   1   1   3   2   1   1   1   2\n",
      "695   841769   2   1   1   1   2   1   1   1   1   2\n",
      "696   888820   5  10  10   3   7   3   8  10   2   4\n",
      "697   897471   4   8   6   4   3   4  10   6   1   4\n",
      "698   897471   4   8   8   5   4   5  10   4   1   4\n",
      "\n",
      "[699 rows x 11 columns]\n",
      "\n",
      "          id  clump  cell_size  cell_shape  adhesion  epithlial bare_nuclei  \\\n",
      "0    1000025      5          1           1         1          2           1   \n",
      "1    1002945      5          4           4         5          7          10   \n",
      "2    1015425      3          1           1         1          2           2   \n",
      "3    1016277      6          8           8         1          3           4   \n",
      "4    1017023      4          1           1         3          2           1   \n",
      "..       ...    ...        ...         ...       ...        ...         ...   \n",
      "694   776715      3          1           1         1          3           2   \n",
      "695   841769      2          1           1         1          2           1   \n",
      "696   888820      5         10          10         3          7           3   \n",
      "697   897471      4          8           6         4          3           4   \n",
      "698   897471      4          8           8         5          4           5   \n",
      "\n",
      "     chromatin  normal_nucleoli  mitoses  class  \n",
      "0            3                1        1      2  \n",
      "1            3                2        1      2  \n",
      "2            3                1        1      2  \n",
      "3            3                7        1      2  \n",
      "4            3                1        1      2  \n",
      "..         ...              ...      ...    ...  \n",
      "694          1                1        1      2  \n",
      "695          1                1        1      2  \n",
      "696          8               10        2      4  \n",
      "697         10                6        1      4  \n",
      "698         10                4        1      4  \n",
      "\n",
      "[699 rows x 11 columns]\n",
      "\n",
      "<class 'pandas.core.frame.DataFrame'>\n",
      "RangeIndex: 699 entries, 0 to 698\n",
      "Data columns (total 11 columns):\n",
      "id                 699 non-null int64\n",
      "clump              699 non-null int64\n",
      "cell_size          699 non-null int64\n",
      "cell_shape         699 non-null int64\n",
      "adhesion           699 non-null int64\n",
      "epithlial          699 non-null int64\n",
      "bare_nuclei        699 non-null object\n",
      "chromatin          699 non-null int64\n",
      "normal_nucleoli    699 non-null int64\n",
      "mitoses            699 non-null int64\n",
      "class              699 non-null int64\n",
      "dtypes: int64(10), object(1)\n",
      "memory usage: 60.2+ KB\n",
      "\n",
      "['1' '10' '2' '4' '3' '9' '7' '?' '5' '8' '6']\n",
      "\n",
      "<class 'pandas.core.frame.DataFrame'>\n",
      "Int64Index: 683 entries, 0 to 698\n",
      "Data columns (total 11 columns):\n",
      "id                 683 non-null int64\n",
      "clump              683 non-null int64\n",
      "cell_size          683 non-null int64\n",
      "cell_shape         683 non-null int64\n",
      "adhesion           683 non-null int64\n",
      "epithlial          683 non-null int64\n",
      "bare_nuclei        683 non-null int32\n",
      "chromatin          683 non-null int64\n",
      "normal_nucleoli    683 non-null int64\n",
      "mitoses            683 non-null int64\n",
      "class              683 non-null int64\n",
      "dtypes: int32(1), int64(10)\n",
      "memory usage: 61.4 KB\n",
      "\n",
      "y: \n",
      " 0      2\n",
      "1      2\n",
      "2      2\n",
      "3      2\n",
      "4      2\n",
      "      ..\n",
      "694    2\n",
      "695    2\n",
      "696    4\n",
      "697    4\n",
      "698    4\n",
      "Name: class, Length: 683, dtype: int64\n",
      "\n",
      "train data 개수:  (478, 9)\n",
      "test data 개수:  (205, 9)\n",
      "\n",
      "y_hat:\n",
      " [4 4 4 4 4 4 2 2 4 4 4 2 2 2 4 2 2 4 2 4 2 2 2 2 4 2 2 2 2 2 2 4 4 4 2 4 4\n",
      " 4 2 2 4 2 4 2 4 2 4 2 2 2 2 2 2 2 2 2 4 4 2 4 2 4 2 4 2 2 2 2 2 2 2 2 4 2\n",
      " 2 2 2 2 2 2 2 2 2 2 4 4 2 2 2 4 4 2 2 2 2 2 2 2 2 2 4 2 4 4 2 2 2 2 4 2 4\n",
      " 2 2 4 2 4 4 2 2 2 2 4 2 4 4 4 4 2 4 2 2 2 2 2 4 4 4 4 2 4 4 2 2 2 4 4 2 4\n",
      " 2 2 2 4 2 2 2 4 4 2 2 2 2 2 4 2 4 4 2 4 4 2 2 4 4 2 2 4 2 2 2 2 4 2 2 2 4\n",
      " 2 2 2 2 2 4 2 2 4 2 4 2 4 2 4 4 4 2 4 2]\n",
      "y_test.values:\n",
      " [4 4 4 4 4 4 2 2 4 4 4 2 2 4 4 2 2 4 2 4 2 2 2 2 4 2 2 2 2 2 2 4 4 4 2 4 4\n",
      " 4 2 2 4 2 4 2 4 2 2 2 2 2 2 2 2 2 2 2 4 4 2 4 2 4 2 4 2 2 2 2 2 2 2 2 4 2\n",
      " 2 2 2 2 2 2 2 2 2 2 4 4 2 2 2 2 4 2 2 2 2 2 2 2 2 2 4 2 4 4 2 2 2 2 4 2 4\n",
      " 2 2 4 2 4 4 2 2 2 2 2 2 4 4 4 4 2 4 2 2 2 2 2 4 4 4 4 2 4 4 2 2 2 4 4 2 4\n",
      " 2 2 2 4 2 2 2 4 4 2 2 2 2 2 4 2 4 4 2 4 4 2 2 4 4 2 2 4 2 2 2 2 4 2 2 2 4\n",
      " 2 2 2 2 2 4 2 2 2 2 4 2 4 2 4 4 4 2 4 2]\n",
      "\n",
      "y_hat:\n",
      " [4 4 4 4 4 4 2 2 4 4]\n",
      "y_test.values:\n",
      " [4 4 4 4 4 4 2 2 4 4]\n",
      "\n",
      "y_hat and y_test are the same\n",
      "혼동행렬: \n",
      " [[127   4]\n",
      " [  1  73]]\n",
      "\n",
      "svm_report(평가지표 계산):\n",
      "               precision    recall  f1-score   support\n",
      "\n",
      "           2       0.99      0.97      0.98       131\n",
      "           4       0.95      0.99      0.97        74\n",
      "\n",
      "    accuracy                           0.98       205\n",
      "   macro avg       0.97      0.98      0.97       205\n",
      "weighted avg       0.98      0.98      0.98       205\n",
      "\n"
     ]
    },
    {
     "name": "stderr",
     "output_type": "stream",
     "text": [
      "C:\\ProgramData\\Anaconda3\\lib\\site-packages\\sklearn\\svm\\base.py:193: FutureWarning: The default value of gamma will change from 'auto' to 'scale' in version 0.22 to account better for unscaled features. Set gamma explicitly to 'auto' or 'scale' to avoid this warning.\n",
      "  \"avoid this warning.\", FutureWarning)\n"
     ]
    }
   ],
   "source": [
    "# nottree_svm_classification\n",
    "\n",
    "# tree_classification.py\n",
    "\n",
    "import pandas as pd\n",
    "import numpy as np\n",
    "\n",
    "# UCI 저장소에서 암세포 진단(Breast Cancer) 데이터셋 가져오기\n",
    "uci_path = 'https://archive.ics.uci.edu/ml/' \\\n",
    "           'machine-learning-databases/' \\\n",
    "           'breast-cancer-wisconsin/' \\\n",
    "           'breast-cancer-wisconsin.data'\n",
    "df = pd.read_csv(uci_path, header=None)\n",
    "print(df)\n",
    "# [699 rows x 11 columns]\n",
    "print()\n",
    "\n",
    "# 11개의 열 이름 지정\n",
    "df.columns = ['id','clump','cell_size','cell_shape', 'adhesion','epithlial'\n",
    "    , 'bare_nuclei','chromatin','normal_nucleoli', 'mitoses', 'class']\n",
    "\n",
    "# IPython 디스플레이 설정 - 출력할 열의 개수 한도 늘리기\n",
    "pd.set_option('display.max_columns', 15)\n",
    "print(df); print()\n",
    "\n",
    "# 데이터 자료형 확인\n",
    "df.info()\n",
    "# 6   bare_nuclei      699 non-null    object\n",
    "print()\n",
    "\n",
    "# 데이터 통계 요약정보 확인 : bare_nuclei 열은 출력 안 됨 (10개의 열만 출력)\n",
    "#print(df.describe())\n",
    "\n",
    "# bare_nuclei 열의 고유값 확인(unique())\n",
    "# bare_nuclei 열은 ? 데이터가 포함되어 있음\n",
    "print(df['bare_nuclei'].unique())\n",
    "# ['1' '10' '2' '4' '3' '9' '7' '?' '5' '8' '6']\n",
    "print()\n",
    "\n",
    "# bare_nuclei 열의 '?' 를 누락데이터(np.NaN)으로 변경\n",
    "df['bare_nuclei'].replace('?', np.NaN, inplace=True)\n",
    "\n",
    "# 누락데이터 행 삭제\n",
    "df.dropna(subset=['bare_nuclei'], axis=0, inplace=True)\n",
    "\n",
    "# bare_nuclei 열의 자료형 변경 (문자열 -> 숫자)\n",
    "df['bare_nuclei'] = df['bare_nuclei'].astype('int')\n",
    "\n",
    "# 데이터 통계 요약정보 확인\n",
    "#print(df.describe())\n",
    "\n",
    "# 수정된 자료형 확인\n",
    "df.info()\n",
    "# 6   bare_nuclei      683 non-null    int32\n",
    "print()\n",
    "\n",
    "# 분석에 사용할 속성(변수) 선택\n",
    "# 독립변수 x (설명변수)\n",
    "x = df[['clump','cell_size','cell_shape', 'adhesion','epithlial'\n",
    "    , 'bare_nuclei','chromatin','normal_nucleoli', 'mitoses']]\n",
    "\n",
    "# 종속변수 y (예측변수)\n",
    "y = df['class']\n",
    "# class (2: benign(양성), 4: malignant(악성))\n",
    "print('y: \\n', y)\n",
    "print()\n",
    "\n",
    "# 설명 변수 데이터를 정규화\n",
    "from sklearn import preprocessing\n",
    "x = preprocessing.StandardScaler().fit(x).transform(x)\n",
    "\n",
    "# train data 와 test data로 구분(7:3 비율)\n",
    "from sklearn.model_selection import train_test_split\n",
    "\n",
    "x_train, x_test, y_train, y_test = train_test_split(x, y\n",
    "                                                    , test_size=0.3\n",
    "                                                    , random_state=10)\n",
    "\n",
    "print('train data 개수: ', x_train.shape)\n",
    "print('test data 개수: ', x_test.shape)\n",
    "\n",
    "print()\n",
    "\n",
    "# sklearn 라이브러리에서 모델 가져오기\n",
    "from sklearn import tree\n",
    "from sklearn import svm\n",
    "\n",
    "\n",
    "# 결정 트리 모델 생성\n",
    "#tree_model = tree.DecisionTreeClassifier(criterion='entropy', max_depth=5)\n",
    "# Decision Tree 모델 객체 생성 (criterion='entropy' 적용)\n",
    "# 각 분기점에서 최적의 속성을 찾기 위해 분류 정도를 평가하는 기준으로 entropy 값을 사용\n",
    "# 트리 레벨로 5로 지정(5단계 까지 가지를 확장 가능 의미)\n",
    "# 레벨이 많아질수록 모델 학습에 사용하는 훈련 데이터에 대한 예측은 정확해짐\n",
    "\n",
    "# SVC 모델 객체 생성 (kernel='rbf' 적용)\n",
    "svm_model = svm.SVC(kernel='rbf')\n",
    "\n",
    "# train data를 가지고 모델 학습\n",
    "svm_model.fit(x_train, y_train)\n",
    "\n",
    "# test data를 가지고 y_hat을 예측 (분류)\n",
    "y_hat = svm_model.predict(x_test)\n",
    "print('y_hat:\\n', y_hat)\n",
    "print('y_test.values:\\n', y_test.values)\n",
    "# 2: benign(양성), 4: malignant(악성)\n",
    "print()\n",
    "\n",
    "# 첫 10개의 예측값(y_hat)과 실제값(y_test) 비교 : 10개 모두 일치함\n",
    "print('y_hat:\\n', y_hat[0:10])\n",
    "print('y_test.values:\\n', y_test.values[0:10])\n",
    "\n",
    "print()\n",
    "\n",
    "\n",
    "if y_hat.all() == y_test.all():\n",
    "    print('y_hat and y_test are the same')\n",
    "else:\n",
    "    print('y_hat and y_test are not the same')\n",
    "#y_hat and y_test are the same\n",
    "\n",
    "\n",
    "# 모델 성능 평가 - Confusion Matrix(혼동 행렬) 계산\n",
    "from sklearn import metrics\n",
    "svm_matrix = metrics.confusion_matrix(y_test, y_hat)\n",
    "print('혼동행렬: \\n', svm_matrix)\n",
    "\n",
    "# 양성 종양의 목표값은 2, 악성 종양은 4\n",
    "# TP(True Positive) : 양성 종양을 정확하게 분류한 것이 127개\n",
    "# FP(False Positive) : 악성 종양을 양성 종양으로 잘못 분류한 것이 4개\n",
    "# FN(False Negative) : 양성 종양을 악성 종양으로 잘못 분류한 것이 1개\n",
    "# TN(True Negative) : 악성 종양을 정확하게 분류한 것이 73개\n",
    "print()\n",
    "\n",
    "# Decision Tree 모델 성능 평가 - 평가지표 계산\n",
    "svm_report = metrics.classification_report(y_test, y_hat)\n",
    "print('svm_report(평가지표 계산):\\n', svm_report)\n"
   ]
  },
  {
   "cell_type": "markdown",
   "metadata": {},
   "source": [
    "***\n",
    "# 오후수업\n",
    "***\n",
    "***\n",
    "## 군집(clustering)\n",
    "#### 군집은 데이터를 비슷한 것끼리 그룹으로 묶어주는 알고리즘\n",
    "> 데이터셋의 관측값이 가지고 있는 여러 속성을 분석하여 서로 비슷한 특징을 갖는 관측값끼리 같은 클러스터(집단)으로 묶는 알고리즘\n",
    ">\n",
    "> 다른 클러스터 간에는 서로 완전하게 구분되는 특징\n",
    ">\n",
    "> 특이 데이터(이상값, 중복값 등)를 찾는데 활용\n",
    "> > 신용카드 부정 사용 탐지, 구매 패턴 분석 등 소비자 행동특성을 그룹화하는 데 사용\n",
    "    \n",
    "### 군집 알고리즘\n",
    "\n",
    "- Types\n",
    "> 비지도 학습(Unsupervised Learning)\n",
    "> > 정답이 없는 상태에서 데이터 자체의 유사성만을 기준으로 판단\n",
    "\n",
    "- Tasks\n",
    "> 군집(Clustering)\n",
    "\n",
    "- Algorithms\n",
    "> - K-Means Clustering\n",
    "> - DBSCAN Clustering\n",
    "> - Hierarchical Clustering (계층형 군집)"
   ]
  },
  {
   "cell_type": "markdown",
   "metadata": {},
   "source": [
    "### iris_datasets.py\n",
    "- 피셔의 붓꽃\n",
    "- scikit-learn 에는 iris 데이터셋이 내장\n",
    "> from sklearn import datasets\n",
    ">\n",
    "> iris = datasets.load_iris()\n",
    "\n",
    "- target_names : 붓꽃의 품종이 등록되어 있음\n",
    "> print( iris[‘target_names’] )\n",
    ">\n",
    "> > ['setosa' 'versicolor' 'virginica']\n",
    "- feature_names : 데이터 속성의 이름이 등록되어 있음\n",
    "> print( iris['feature_names'] )\n",
    ">\n",
    "> > ['sepal length (cm)', 'sepal width (cm)', 'petal length (cm)', 'petal width (cm)']\n",
    "> >\n",
    "> > [ '꽃받침의 길이', '꽃받침의 폭', '꽃잎의 길이', '꽃잎의 폭' ]"
   ]
  },
  {
   "cell_type": "code",
   "execution_count": 74,
   "metadata": {},
   "outputs": [
    {
     "name": "stdout",
     "output_type": "stream",
     "text": [
      ".. _iris_dataset:\n",
      "\n",
      "Iris plants dataset\n",
      "--------------------\n",
      "\n",
      "**Data Set Characteristics:**\n",
      "\n",
      "    :Number of Instances: 150 (50 in each of three classes)\n",
      "    :Number of Attributes: 4 numeric, predictive attributes and the class\n",
      "    :Attribute Information:\n",
      "        - sepal length in cm\n",
      "        - sepal width in cm\n",
      "        - petal length in cm\n",
      "        - petal width in cm\n",
      "        - class:\n",
      "                - Iris-Setosa\n",
      "                - Iris-Versicolour\n",
      "                - Iris-Virginica\n",
      "                \n",
      "    :Summary Statistics:\n",
      "\n",
      "    ============== ==== ==== ======= ===== ====================\n",
      "                    Min  Max   Mean    SD   Class Correlation\n",
      "    ============== ==== ==== ======= ===== ====================\n",
      "    sepal length:   4.3  7.9   5.84   0.83    0.7826\n",
      "    sepal width:    2.0  4.4   3.05   0.43   -0.4194\n",
      "    petal length:   1.0  6.9   3.76   1.76    0.9490  (high!)\n",
      "    petal width:    0.1  2.5   1.20   0.76    0.9565  (high!)\n",
      "    ============== ==== ==== ======= ===== ====================\n",
      "\n",
      "    :Missing Attribute Values: None\n",
      "    :Class Distribution: 33.3% for each of 3 classes.\n",
      "    :Creator: R.A. Fisher\n",
      "    :Donor: Michael Marshall (MARSHALL%PLU@io.arc.nasa.gov)\n",
      "    :Date: July, 1988\n",
      "\n",
      "The famous Iris database, first used by Sir R.A. Fisher. The dataset is taken\n",
      "from Fisher's paper. Note that it's the same as in R, but not as in the UCI\n",
      "Machine Learning Repository, which has two wrong data points.\n",
      "\n",
      "This is perhaps the best known database to be found in the\n",
      "pattern recognition literature.  Fisher's paper is a classic in the field and\n",
      "is referenced frequently to this day.  (See Duda & Hart, for example.)  The\n",
      "data set contains 3 classes of 50 instances each, where each class refers to a\n",
      "type of iris plant.  One class is linearly separable from the other 2; the\n",
      "latter are NOT linearly separable from each other.\n",
      "\n",
      ".. topic:: References\n",
      "\n",
      "   - Fisher, R.A. \"The use of multiple measurements in taxonomic problems\"\n",
      "     Annual Eugenics, 7, Part II, 179-188 (1936); also in \"Contributions to\n",
      "     Mathematical Statistics\" (John Wiley, NY, 1950).\n",
      "   - Duda, R.O., & Hart, P.E. (1973) Pattern Classification and Scene Analysis.\n",
      "     (Q327.D83) John Wiley & Sons.  ISBN 0-471-22361-1.  See page 218.\n",
      "   - Dasarathy, B.V. (1980) \"Nosing Around the Neighborhood: A New System\n",
      "     Structure and Classification Rule for Recognition in Partially Exposed\n",
      "     Environments\".  IEEE Transactions on Pattern Analysis and Machine\n",
      "     Intelligence, Vol. PAMI-2, No. 1, 67-71.\n",
      "   - Gates, G.W. (1972) \"The Reduced Nearest Neighbor Rule\".  IEEE Transactions\n",
      "     on Information Theory, May 1972, 431-433.\n",
      "   - See also: 1988 MLC Proceedings, 54-64.  Cheeseman et al\"s AUTOCLASS II\n",
      "     conceptual clustering system finds 3 classes in the data.\n",
      "   - Many, many more ...\n"
     ]
    }
   ],
   "source": [
    "# iris_datasets.py\n",
    "\n",
    "from sklearn import datasets\n",
    "\n",
    "# iris 데이터 로드\n",
    "iris = datasets.load_iris()\n",
    "\n",
    "# 1. data (붓꽃 측정값)\n",
    "data = iris['data']\n",
    "#print(data)\n",
    "\n",
    "# 2. DESCR (피셔의 붓꽃 데이터 설명 출력)\n",
    "# iris Data Set Characteristics\n",
    "print(iris['DESCR'])\n",
    "\n",
    "#- class:\n",
    "                # - Iris-Setosa\n",
    "                # - Iris-Versicolour\n",
    "                # - Iris-Virginica\n",
    "\n",
    "# 3. target (붓꽃의 품종이 ID 번호로 등록되어 있음)\n",
    "#print(iris['target'])\n",
    "\n",
    "# 4. target_names (붓꽃의 품종이 등록되어 있음)\n",
    "#print(iris['target_names'])\n",
    "# ['setosa' 'versicolor' 'virginica']"
   ]
  },
  {
   "cell_type": "markdown",
   "metadata": {},
   "source": [
    "### K-Means Clustring\n",
    "- K-Means는 군집 중심점(centroid)이라는 특정한 임의의 지점을 선택해 해당 중심에 가장 가까운 포인트들을 선택하는 군집화 기법\n",
    "- 데이터 간의 유사성을 측정하는 기준으로 각 클러스터의 중심까지의 거리를 이용\n",
    "> K-Means는 군집화(Clustring)에서 가장 일반적으로 사용되는 알고리즘\n",
    ">\n",
    "> 오래된 방법이지만, 계산이 간단하고 직관적으로 알기 쉽기 때문에 지금도 많이 사용하는 알고리즘\n",
    "- 벡터 공간에 위치한 어떤 데이터에 대하여 k개의 클러스터가 주어졌을 때 클러스터의 중심까지 거리가 가장 가까운 클러스터로 해당 데이터를 할당\n",
    "> 다른 클러스터 간에는 서로 완전하게 구분하기 위하여 일정한 거리 이상 떨어져야 함\n",
    "- 몇 개의 클러스터로 데이터를 구분핛 것인지를 결정하는 k값에 따라 모델의 성능이 달라짐\n",
    "- 일반적으로 k값이 클수록 모델의 정확도는 개선\n",
    "> k값이 너무 커지면 선택지가 너무 많아지므로 분석의 효과가 사라짐\n",
    "\n",
    "#### K-Means Clustring의 장점\n",
    "> 일반적인 군집화에서 가장 많이 활용하는 알고리즘\n",
    ">\n",
    "> 알고리즘이 쉽고 간결\n",
    "\n",
    "#### K-Means Clustring의 단점\n",
    "> 거리 기반 알고리즘으로 속성의 개수가 매우 많을 경우 군집화 정확도가 떨어짐\n",
    ">\n",
    "> 반복 수행 횟수가 많을 경우 수행 시간이 매우 느려짐\n",
    ">\n",
    "> 몇 개의 군집(cluster)을 선택해야 할지 가이드하기가 어려움\n",
    "\n",
    "#### K-Means Clustring 절차\n",
    " 1. 먼저 군집화의 기준이 되는 중심을 구성하려는 군집화 개수만큼 임의의 위치에 가져다 놓음\n",
    " > 전체 데이터를 3개로 군집화하려면 3개의 중심을 임의의 위치에 가져다 놓아야 함\n",
    " 2. 각 데이터는 가장 가까운 곳에 위치한 중심점에 소속됨\n",
    " 3. 소속 결정 후 군집 중심점이 소속된 데이터의 평균 중심으로 이동함\n",
    " 4. 중심점이 이동했기 때문에 각 데이터는 기존에 속한 중심점보다 더 가까운 중심점이 있다면 그 중심점으로 소속이 변경됨\n",
    " 5. 다시 중심을 소속된 데이터의 평균 중심으로 이동시킴\n",
    " 6. 중심점을 이동했는데 데이터의 중심점 소속 변경이 없을 때 군집화를 종료\n",
    " > 그렇지 않으면 다시 4번 과정을 거쳐서 소속을 변경하고 이 과정을 반복함"
   ]
  },
  {
   "cell_type": "markdown",
   "metadata": {},
   "source": [
    "### kmeans_clustering.py\n",
    "- UCI(University of California, Irvine) 머신러닝 저장소에서 제공하는 도매업 고객 (wholesale customers) 데이터셋을 사용\n",
    "- 도매업 고객 데이터셋은 각 고객의 연간 구매금액을 상품 카테고리별로 구분하여 정리한 데이터"
   ]
  },
  {
   "cell_type": "code",
   "execution_count": 76,
   "metadata": {},
   "outputs": [
    {
     "name": "stdout",
     "output_type": "stream",
     "text": [
      "   Channel  Region  Fresh  Milk  Grocery  Frozen  Detergents_Paper  Delicassen\n",
      "0        2       3  12669  9656     7561     214              2674        1338\n",
      "1        2       3   7057  9810     9568    1762              3293        1776\n",
      "2        2       3   6353  8808     7684    2405              3516        7844\n",
      "3        1       3  13265  1196     4221    6404               507        1788\n",
      "4        2       3  22615  5410     7198    3915              1777        5185\n",
      "\n",
      "<class 'pandas.core.frame.DataFrame'>\n",
      "RangeIndex: 440 entries, 0 to 439\n",
      "Data columns (total 8 columns):\n",
      "Channel             440 non-null int64\n",
      "Region              440 non-null int64\n",
      "Fresh               440 non-null int64\n",
      "Milk                440 non-null int64\n",
      "Grocery             440 non-null int64\n",
      "Frozen              440 non-null int64\n",
      "Detergents_Paper    440 non-null int64\n",
      "Delicassen          440 non-null int64\n",
      "dtypes: int64(8)\n",
      "memory usage: 27.6 KB\n",
      "\n",
      "          Channel      Region          Fresh          Milk       Grocery  \\\n",
      "count  440.000000  440.000000     440.000000    440.000000    440.000000   \n",
      "mean     1.322727    2.543182   12000.297727   5796.265909   7951.277273   \n",
      "std      0.468052    0.774272   12647.328865   7380.377175   9503.162829   \n",
      "min      1.000000    1.000000       3.000000     55.000000      3.000000   \n",
      "25%      1.000000    2.000000    3127.750000   1533.000000   2153.000000   \n",
      "50%      1.000000    3.000000    8504.000000   3627.000000   4755.500000   \n",
      "75%      2.000000    3.000000   16933.750000   7190.250000  10655.750000   \n",
      "max      2.000000    3.000000  112151.000000  73498.000000  92780.000000   \n",
      "\n",
      "             Frozen  Detergents_Paper    Delicassen  \n",
      "count    440.000000        440.000000    440.000000  \n",
      "mean    3071.931818       2881.493182   1524.870455  \n",
      "std     4854.673333       4767.854448   2820.105937  \n",
      "min       25.000000          3.000000      3.000000  \n",
      "25%      742.250000        256.750000    408.250000  \n",
      "50%     1526.000000        816.500000    965.500000  \n",
      "75%     3554.250000       3922.000000   1820.250000  \n",
      "max    60869.000000      40827.000000  47943.000000  \n",
      "\n",
      "     Channel  Region  Fresh   Milk  Grocery  Frozen  Detergents_Paper  \\\n",
      "0          2       3  12669   9656     7561     214              2674   \n",
      "1          2       3   7057   9810     9568    1762              3293   \n",
      "2          2       3   6353   8808     7684    2405              3516   \n",
      "3          1       3  13265   1196     4221    6404               507   \n",
      "4          2       3  22615   5410     7198    3915              1777   \n",
      "..       ...     ...    ...    ...      ...     ...               ...   \n",
      "435        1       3  29703  12051    16027   13135               182   \n",
      "436        1       3  39228   1431      764    4510                93   \n",
      "437        2       3  14531  15488    30243     437             14841   \n",
      "438        1       3  10290   1981     2232    1038               168   \n",
      "439        1       3   2787   1698     2510      65               477   \n",
      "\n",
      "     Delicassen  \n",
      "0          1338  \n",
      "1          1776  \n",
      "2          7844  \n",
      "3          1788  \n",
      "4          5185  \n",
      "..          ...  \n",
      "435        2204  \n",
      "436        2346  \n",
      "437        1867  \n",
      "438        2125  \n",
      "439          52  \n",
      "\n",
      "[440 rows x 8 columns]\n",
      "\n",
      "   Channel  Region  Fresh  Milk  Grocery  Frozen  Detergents_Paper  Delicassen\n",
      "0        2       3  12669  9656     7561     214              2674        1338\n",
      "1        2       3   7057  9810     9568    1762              3293        1776\n",
      "2        2       3   6353  8808     7684    2405              3516        7844\n",
      "3        1       3  13265  1196     4221    6404               507        1788\n",
      "4        2       3  22615  5410     7198    3915              1777        5185\n",
      "\n",
      "[[ 1.44865163  0.59066829  0.05293319  0.52356777 -0.04111489 -0.58936716\n",
      "  -0.04356873 -0.06633906]\n",
      " [ 1.44865163  0.59066829 -0.39130197  0.54445767  0.17031835 -0.27013618\n",
      "   0.08640684  0.08915105]\n",
      " [ 1.44865163  0.59066829 -0.44702926  0.40853771 -0.0281571  -0.13753572\n",
      "   0.13323164  2.24329255]\n",
      " [-0.69029709  0.59066829  0.10011141 -0.62401993 -0.3929769   0.6871443\n",
      "  -0.49858822  0.09341105]\n",
      " [ 1.44865163  0.59066829  0.84023948 -0.05239645 -0.07935618  0.17385884\n",
      "  -0.23191782  1.29934689]]\n",
      "\n",
      "[0 0 0 1 0 0 0 0 1 0 0 0 0 0 0 1 0 1 0 1 0 1 1 4 0 0 1 1 0 1 1 1 1 1 1 0 1\n",
      " 0 0 1 1 1 0 0 0 0 0 4 0 0 1 1 0 0 1 1 4 0 1 1 0 4 0 0 1 4 1 0 1 1 1 1 1 0\n",
      " 0 1 1 0 1 1 1 0 0 1 0 4 4 1 1 1 1 1 4 1 0 1 0 1 1 1 0 0 0 1 1 1 0 0 0 0 1\n",
      " 0 1 1 1 1 1 1 1 1 1 1 1 0 1 1 1 0 1 1 1 1 1 1 1 1 1 1 1 1 1 1 1 1 1 0 1 1\n",
      " 1 1 1 1 1 1 1 0 0 1 0 0 0 1 1 0 0 0 0 1 1 1 0 0 1 0 1 0 1 1 1 1 1 4 1 3 1\n",
      " 1 1 1 0 0 1 1 1 0 1 1 2 0 2 2 0 0 2 2 2 0 2 2 2 0 2 4 2 2 0 2 0 2 0 2 2 2\n",
      " 2 2 2 2 2 2 2 2 2 2 2 2 2 2 2 2 2 2 2 2 2 2 2 0 2 2 2 2 2 4 2 2 2 2 2 2 2\n",
      " 2 2 2 2 2 0 2 0 2 0 2 2 2 2 1 1 1 1 1 1 0 1 0 1 1 1 1 1 1 1 1 1 1 1 0 2 0\n",
      " 2 0 0 2 0 0 0 0 0 0 0 2 2 0 2 2 0 2 2 0 2 2 2 0 2 2 2 2 2 2 2 2 2 2 2 0 2\n",
      " 4 2 0 2 2 2 2 0 0 1 0 1 1 0 0 1 0 1 0 1 0 1 1 1 0 1 1 1 1 1 1 1 0 1 1 1 1\n",
      " 1 1 1 0 1 1 0 1 1 0 1 1 1 1 1 1 1 1 1 1 1 1 1 1 1 1 0 1 1 1 1 1 1 1 1 1 1\n",
      " 0 0 1 1 1 1 1 1 0 0 1 0 1 1 0 1 0 0 1 1 1 1 1 1 1 1 1 1 1 1 0 1 1]\n",
      "\n",
      "   Channel  Region  Fresh  Milk  Grocery  Frozen  Detergents_Paper  \\\n",
      "0        2       3  12669  9656     7561     214              2674   \n",
      "1        2       3   7057  9810     9568    1762              3293   \n",
      "2        2       3   6353  8808     7684    2405              3516   \n",
      "3        1       3  13265  1196     4221    6404               507   \n",
      "4        2       3  22615  5410     7198    3915              1777   \n",
      "\n",
      "   Delicassen  Cluster  \n",
      "0        1338        0  \n",
      "1        1776        0  \n",
      "2        7844        0  \n",
      "3        1788        1  \n",
      "4        5185        0  \n"
     ]
    },
    {
     "data": {
      "image/png": "[encoded data removed]",
      "text/plain": [
       "<Figure size 720x720 with 1 Axes>"
      ]
     },
     "metadata": {
      "needs_background": "light"
     },
     "output_type": "display_data"
    },
    {
     "data": {
      "image/png": "[encoded data removed]",
      "text/plain": [
       "<Figure size 720x720 with 2 Axes>"
      ]
     },
     "metadata": {
      "needs_background": "light"
     },
     "output_type": "display_data"
    },
    {
     "data": {
      "image/png": "[encoded data removed]",
      "text/plain": [
       "<Figure size 720x720 with 1 Axes>"
      ]
     },
     "metadata": {
      "needs_background": "light"
     },
     "output_type": "display_data"
    },
    {
     "data": {
      "image/png": "[encoded data removed]",
      "text/plain": [
       "<Figure size 720x720 with 2 Axes>"
      ]
     },
     "metadata": {
      "needs_background": "light"
     },
     "output_type": "display_data"
    }
   ],
   "source": [
    "# kmeans_clustering.py\n",
    "\n",
    "import pandas as pd\n",
    "import matplotlib.pyplot as plt\n",
    "\n",
    "# UCI 저장소에서 도매업 고객(wholesale customers) 데이터셋 가져오기\n",
    "uci_path = 'https://archive.ics.uci.edu/ml/machine-learning-databases/' \\\n",
    "           '00292/Wholesale%20customers%20data.csv'\n",
    "# 경로 주소를 브라우저에 복붙 시 파일 저장 가능\n",
    "df = pd.read_csv(uci_path, header=0)\n",
    "#print(df)\n",
    "# [440 rows x 8 columns]\n",
    "\n",
    "# 데이터 살펴보기\n",
    "print(df.head())\n",
    "print()\n",
    "\n",
    "# 데이터 자료형 확인\n",
    "df.info()\n",
    "print()\n",
    "\n",
    "# 데이터 통계 요약정보 확인\n",
    "print(df.describe())\n",
    "print()\n",
    "\n",
    "# 데이터 분석에 사용할 속성(열, 변수)을 선택\n",
    "# k-means는 비지도 학습모델이기 때문에 예측(종속)변수를 지정할 필요가 없고 모두 설명(독립)변수만 사용\n",
    "# 데이터프레임의 모든 데이터 (8개의 설명변수)\n",
    "x = df.iloc[:, :]\n",
    "print(x); print()\n",
    "print(x[:5]); print()\n",
    "\n",
    "# 변수 데이터 정규화\n",
    "from sklearn import preprocessing\n",
    "x = preprocessing.StandardScaler().fit(x).transform(x)\n",
    "print(x[:5]); print()\n",
    "\n",
    "# k-means 모듈 import\n",
    "# sklearn 라이브러리에서 cluster 군집 모델 가져오기\n",
    "from sklearn import cluster\n",
    "\n",
    "# k-means 모델 객체 생성\n",
    "# k-means 모델은 8개의 속성(변수)을 이용하여 각 관측값을 5개의 클러스터로 구분\n",
    "# 클러스터의 개수를 5개로 설정, n_clusters=5\n",
    "kmeans = cluster.KMeans(n_clusters=5)\n",
    "\n",
    "# k-means 모델 학습\n",
    "# k-means 모델로 학습 데이터 x를 학습 시키면, 클러스터 갯수(5) 만큼 데이터를 구분\n",
    "# 모델의 labels_ 속성(변수)에 구분된 클러스터 값(0~4)이 입력\n",
    "kmeans.fit(x)\n",
    "\n",
    "# 예측 (군집) 결과를 출력할 열(속성)의 값 구하기\n",
    "# 변수 labels_ 에 저장된 값을 출력해보면, 0~4 범위의 5개 클러스터 값이 출력됨\n",
    "# 각 데이터가 어떤 클러스터에 할당 되었는지를 확인 가능\n",
    "# (매번 실행 할 때마다 예측값의 결과가 다름)\n",
    "cluster_label = kmeans.labels_\n",
    "print(cluster_label); print()\n",
    "\n",
    "# 예측(군집) 결과를 저장할 열(Cluster)을 데이터프레임에 추가\n",
    "df['Cluster'] = cluster_label\n",
    "print(df.head())\n",
    "\n",
    "# 그래프로 시각화 - 클러스터 값 : 0 ~ 4 모두 출력\n",
    "# 8개의 변수를 하나의 그래프로 표현할 수 없기 때문에 2개의 변수를 선택하여 관측값의 분포 그리기\n",
    "# 모델의 예측값은 매번 실행할 때마다 달라지므로, 그래프의 형태도 달라짐\n",
    "# 산점도 : x='Grocery', y='Frozen' 식료품점, 냉동식품\n",
    "# 산점도 : x='Milk', y='Delicassen' 우유, 조제식품점\n",
    "df.plot(kind='scatter'\n",
    "        , x='Grocery', y='Frozen'\n",
    "        , c='Cluster'\n",
    "        , cmap='Set1'\n",
    "        # colorbar 미적용\n",
    "        , colorbar=False\n",
    "        , figsize=(10, 10))\n",
    "df.plot(kind='scatter'\n",
    "        , x='Milk', y='Delicassen'\n",
    "        , c='Cluster'\n",
    "        , cmap='Set1'\n",
    "        # colorbar 적용\n",
    "        , colorbar=True\n",
    "        , figsize=(10, 10))\n",
    "plt.show()\n",
    "plt.close()\n",
    "\n",
    "# 그래프로 시각화 - 클러스터 값 : 1, 2, 3 확대해서 자세하게 출력\n",
    "# 다른 값들에 비해 지나치게 큰 값으로 구성된 클러스터(0, 4)를 제외\n",
    "# 데이터들이 몰려 있는 구간을 확대해서 자세하게 분석\n",
    "# 클러스터 값이 1, 2, 3에 속하는 데이터만 변수 ndf에 저장함\n",
    "mask = (df['Cluster'] == 0) | (df['Cluster'] == 4)\n",
    "ndf = df[~mask]\n",
    "\n",
    "# 클러스터 값이 1, 2, 3에 속하는 데이터만을 이용해서 분포를 확인\n",
    "# 산점도 : x='Grocery', y='Frozen' 식료품점, 냉동식품\n",
    "# 산점도 : x='Milk', y='Delicassen' 우유, 조제식품점\n",
    "ndf.plot(kind='scatter'\n",
    "         , x='Grocery', y='Frozen'\n",
    "         , c='Cluster'\n",
    "         , cmap='Set1'\n",
    "         # colorbar 미적용\n",
    "         , colorbar=False\n",
    "         , figsize=(10, 10))\n",
    "ndf.plot(kind='scatter'\n",
    "         , x='Milk', y='Delicassen'\n",
    "         , c='Cluster'\n",
    "         , cmap='Set1'\n",
    "         # colorbar 적용\n",
    "         , colorbar=True\n",
    "         , figsize=(10, 10))\n",
    "plt.show()\n",
    "plt.close()"
   ]
  }
 ],
 "metadata": {
  "kernelspec": {
   "display_name": "Python 3",
   "language": "python",
   "name": "python3"
  },
  "language_info": {
   "codemirror_mode": {
    "name": "ipython",
    "version": 3
   },
   "file_extension": ".py",
   "mimetype": "text/x-python",
   "name": "python",
   "nbconvert_exporter": "python",
   "pygments_lexer": "ipython3",
   "version": "3.7.4"
  }
 },
 "nbformat": 4,
 "nbformat_minor": 2
}
