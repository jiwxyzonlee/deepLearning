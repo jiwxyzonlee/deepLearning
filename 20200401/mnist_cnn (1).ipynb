{
  "nbformat": 4,
  "nbformat_minor": 0,
  "metadata": {
    "colab": {
      "name": "mnist_cnn.ipynb",
      "provenance": [],
      "collapsed_sections": [],
      "toc_visible": true
    },
    "kernelspec": {
      "name": "python3",
      "display_name": "Python 3"
    },
    "accelerator": "GPU"
  },
  "cells": [
    {
      "cell_type": "markdown",
      "metadata": {
        "id": "cjArVrYWIMlv",
        "colab_type": "text"
      },
      "source": [
        "copy from:\n",
        "https://github.com/dhrim/joongang_2020_03/blob/master/material/deep_learning/cnn_mnist.ipynb"
      ]
    },
    {
      "cell_type": "markdown",
      "metadata": {
        "id": "c503DSvxvOU5",
        "colab_type": "text"
      },
      "source": [
        "# 이전 DNN 코드"
      ]
    },
    {
      "cell_type": "code",
      "metadata": {
        "id": "G8M2QsSUxGZn",
        "colab_type": "code",
        "colab": {}
      },
      "source": [
        "import numpy as np\n",
        "import matplotlib.pyplot as plt\n",
        "\n",
        "import tensorflow as tf\n",
        "from tensorflow import keras\n",
        "from tensorflow.keras import optimizers\n",
        "from tensorflow.keras.layers import Dense, Flatten, Input\n",
        "\n",
        "import time"
      ],
      "execution_count": 0,
      "outputs": []
    },
    {
      "cell_type": "code",
      "metadata": {
        "id": "98Ly9UIFxIjO",
        "colab_type": "code",
        "colab": {}
      },
      "source": [
        "(raw_train_x, raw_train_y), (raw_test_x, raw_test_y) = tf.keras.datasets.mnist.load_data()\n",
        "\n",
        "train_x = raw_train_x/255\n",
        "test_x = raw_test_x/255\n",
        "\n",
        "train_y = raw_train_y\n",
        "test_y = raw_test_y"
      ],
      "execution_count": 0,
      "outputs": []
    },
    {
      "cell_type": "code",
      "metadata": {
        "id": "gZ-hK0S5xIl7",
        "colab_type": "code",
        "outputId": "12e3c449-62d9-4a1a-f41c-8fb0454b083c",
        "colab": {
          "base_uri": "https://localhost:8080/",
          "height": 625
        }
      },
      "source": [
        "\n",
        "model = keras.Sequential()\n",
        "model.add(Input((28,28)))\n",
        "model.add(Flatten())\n",
        "model.add(Dense(10, activation='relu'))\n",
        "model.add(Dense(10, activation='relu'))\n",
        "model.add(Dense(10, activation='softmax'))\n",
        "\n",
        "model.compile(optimizer=\"adam\", loss=\"sparse_categorical_crossentropy\", metrics=[\"accuracy\"])\n",
        "model.summary()\n",
        "\n",
        "\n",
        "model.fit(train_x, train_y, epochs=5, verbose=1, batch_size=128)\n",
        "\n",
        "\n",
        "loss, acc = model.evaluate(test_x, test_y)\n",
        "print(\"loss=\",loss)\n",
        "print(\"acc=\",acc)\n",
        "\n",
        "y_ = model.predict(test_x)\n",
        "predicted = np.argmax(y_, axis=1)\n",
        "\n",
        "print(predicted)\n"
      ],
      "execution_count": 0,
      "outputs": [
        {
          "output_type": "stream",
          "text": [
            "WARNING: Logging before flag parsing goes to stderr.\n",
            "W0821 00:48:13.984249 140281580390272 deprecation.py:506] From /usr/local/lib/python3.6/dist-packages/tensorflow/python/ops/init_ops.py:1251: calling VarianceScaling.__init__ (from tensorflow.python.ops.init_ops) with dtype is deprecated and will be removed in a future version.\n",
            "Instructions for updating:\n",
            "Call initializer instance with the dtype argument instead of passing it to the constructor\n"
          ],
          "name": "stderr"
        },
        {
          "output_type": "stream",
          "text": [
            "Model: \"sequential\"\n",
            "_________________________________________________________________\n",
            "Layer (type)                 Output Shape              Param #   \n",
            "=================================================================\n",
            "flatten (Flatten)            (None, 784)               0         \n",
            "_________________________________________________________________\n",
            "dense (Dense)                (None, 10)                7850      \n",
            "_________________________________________________________________\n",
            "dense_1 (Dense)              (None, 10)                110       \n",
            "_________________________________________________________________\n",
            "dense_2 (Dense)              (None, 10)                110       \n",
            "=================================================================\n",
            "Total params: 8,070\n",
            "Trainable params: 8,070\n",
            "Non-trainable params: 0\n",
            "_________________________________________________________________\n",
            "Epoch 1/5\n",
            "60000/60000 [==============================] - 1s 20us/sample - loss: 0.7731 - acc: 0.7749\n",
            "Epoch 2/5\n",
            "60000/60000 [==============================] - 1s 19us/sample - loss: 0.3412 - acc: 0.9015\n",
            "Epoch 3/5\n",
            "60000/60000 [==============================] - 1s 19us/sample - loss: 0.2946 - acc: 0.9146\n",
            "Epoch 4/5\n",
            "60000/60000 [==============================] - 1s 19us/sample - loss: 0.2712 - acc: 0.9217\n",
            "Epoch 5/5\n",
            "60000/60000 [==============================] - 1s 19us/sample - loss: 0.2559 - acc: 0.9261\n",
            "10000/10000 [==============================] - 0s 28us/sample - loss: 0.2579 - acc: 0.9250\n",
            "loss= 0.25794000726342203\n",
            "acc= 0.925\n",
            "[7 2 1 ... 4 5 6]\n"
          ],
          "name": "stdout"
        }
      ]
    },
    {
      "cell_type": "markdown",
      "metadata": {
        "id": "cHcZ3XNF2qkV",
        "colab_type": "text"
      },
      "source": [
        "# CNN"
      ]
    },
    {
      "cell_type": "code",
      "metadata": {
        "id": "fYlMkT8axIoi",
        "colab_type": "code",
        "colab": {}
      },
      "source": [
        "import numpy as np\n",
        "import matplotlib.pyplot as plt\n",
        "\n",
        "import tensorflow as tf\n",
        "from tensorflow import keras\n",
        "from tensorflow.keras import optimizers\n",
        "from tensorflow.keras.layers import Dense, Flatten, Conv2D, MaxPooling2D, Input\n",
        "\n",
        "import time"
      ],
      "execution_count": 0,
      "outputs": []
    },
    {
      "cell_type": "code",
      "metadata": {
        "id": "puN5QRLz2toU",
        "colab_type": "code",
        "outputId": "c54afce8-4f05-4f67-e1b2-7d03fc7269f8",
        "colab": {
          "base_uri": "https://localhost:8080/",
          "height": 53
        }
      },
      "source": [
        "(raw_train_x, raw_train_y), (raw_test_x, raw_test_y) = tf.keras.datasets.mnist.load_data()\n",
        "\n",
        "train_x = raw_train_x/255\n",
        "test_x = raw_test_x/255\n",
        "\n",
        "# Conv2D는 width*height*channel을 입력으로 받음\n",
        "train_x = train_x.reshape((60000, 28, 28, 1)) # ADDED  가로, 세로, 채널 3개 reshape(28x28x1)\n",
        "test_x = test_x.reshape((10000, 28, 28, 1)) # ADDED\n",
        "\n",
        "train_y = raw_train_y\n",
        "test_y = raw_test_y"
      ],
      "execution_count": 0,
      "outputs": [
        {
          "output_type": "stream",
          "text": [
            "Downloading data from https://storage.googleapis.com/tensorflow/tf-keras-datasets/mnist.npz\n",
            "11493376/11490434 [==============================] - 0s 0us/step\n"
          ],
          "name": "stdout"
        }
      ]
    },
    {
      "cell_type": "code",
      "metadata": {
        "id": "cuW2ftNT2trB",
        "colab_type": "code",
        "outputId": "ac30a91b-e268-47af-b971-c675c8c0d4b0",
        "colab": {
          "base_uri": "https://localhost:8080/",
          "height": 701
        }
      },
      "source": [
        "\n",
        "model = keras.Sequential()\n",
        "# model.add(Input((28,28)))\n",
        "model.add(Input((28,28,1))) # 영상은 컬러를 default, 가로, 세로, 채널 3개 reshape된 것(28x28x1)\n",
        "model.add(Conv2D(32, (3, 3))) # ADDED 필터사이즈3x3, 필터 개수는 32개\n",
        "model.add(MaxPooling2D((2, 2))) # ADDED 맥스풀링 사이즈 2x2\n",
        "model.add(Conv2D(64, (3, 3))) # ADDED 필터개수 64개\n",
        "model.add(MaxPooling2D((2, 2))) # ADDED\n",
        "model.add(Flatten())\n",
        "model.add(Dense(10, activation='relu'))\n",
        "model.add(Dense(10, activation='relu'))\n",
        "model.add(Dense(10, activation='softmax'))\n",
        "\n",
        "model.compile(optimizer=\"adam\", loss=\"sparse_categorical_crossentropy\", metrics=[\"accuracy\"])\n",
        "model.summary()\n",
        "\n",
        "\n",
        "model.fit(train_x, train_y, epochs=5, verbose=1, batch_size=128)\n",
        "\n",
        "\n",
        "loss, acc = model.evaluate(test_x, test_y)\n",
        "print(\"loss=\",loss)\n",
        "print(\"acc=\",acc)\n",
        "\n",
        "y_ = model.predict(test_x)\n",
        "predicted = np.argmax(y_, axis=1)\n",
        "\n",
        "print(predicted)\n"
      ],
      "execution_count": 0,
      "outputs": [
        {
          "output_type": "stream",
          "text": [
            "Model: \"sequential\"\n",
            "_________________________________________________________________\n",
            "Layer (type)                 Output Shape              Param #   \n",
            "=================================================================\n",
            "conv2d (Conv2D)              (None, 26, 26, 32)        320       \n",
            "_________________________________________________________________\n",
            "max_pooling2d (MaxPooling2D) (None, 13, 13, 32)        0         \n",
            "_________________________________________________________________\n",
            "conv2d_1 (Conv2D)            (None, 11, 11, 64)        18496     \n",
            "_________________________________________________________________\n",
            "max_pooling2d_1 (MaxPooling2 (None, 5, 5, 64)          0         \n",
            "_________________________________________________________________\n",
            "flatten (Flatten)            (None, 1600)              0         \n",
            "_________________________________________________________________\n",
            "dense (Dense)                (None, 10)                16010     \n",
            "_________________________________________________________________\n",
            "dense_1 (Dense)              (None, 10)                110       \n",
            "_________________________________________________________________\n",
            "dense_2 (Dense)              (None, 10)                110       \n",
            "=================================================================\n",
            "Total params: 35,046\n",
            "Trainable params: 35,046\n",
            "Non-trainable params: 0\n",
            "_________________________________________________________________\n",
            "Epoch 1/5\n",
            "469/469 [==============================] - 2s 4ms/step - loss: 0.5948 - accuracy: 0.8007\n",
            "Epoch 2/5\n",
            "469/469 [==============================] - 2s 4ms/step - loss: 0.1722 - accuracy: 0.9511\n",
            "Epoch 3/5\n",
            "469/469 [==============================] - 2s 4ms/step - loss: 0.1307 - accuracy: 0.9626\n",
            "Epoch 4/5\n",
            "469/469 [==============================] - 2s 4ms/step - loss: 0.1119 - accuracy: 0.9678\n",
            "Epoch 5/5\n",
            "469/469 [==============================] - 2s 4ms/step - loss: 0.0982 - accuracy: 0.9711\n",
            "313/313 [==============================] - 1s 2ms/step - loss: 0.0976 - accuracy: 0.9711\n",
            "loss= 0.097636878490448\n",
            "acc= 0.9710999727249146\n",
            "[7 2 1 ... 4 5 6]\n"
          ],
          "name": "stdout"
        }
      ]
    },
    {
      "cell_type": "markdown",
      "metadata": {
        "id": "4e7ZuTwXJhKf",
        "colab_type": "text"
      },
      "source": [
        "default로 cnn 사용함 dnn이 대체한 적은...? 거의 없다고 봐야\n",
        "\n",
        "dnn이 할 수 있는 것은 cnn도 전부 가능 그래서 요즘 cnn 씀\n",
        "\n",
        "dnn은 입력과 출력이 있어야 가능\n",
        "\n",
        "cnn은 이미지 처리에 뛰어나나 이미지 외 처리에도 좋은 성능을 보임(텍스트처리는 물론)\n",
        "\n",
        "rnn은 텍스트만 사용가능한 것이 아니라 영상도 처리 가능(오해 만연)\n",
        "\n",
        "feature extraction -> classification\n",
        "\n",
        "보통은 전 과정을 사람이 했었음, feature engineering 사람이 알고리즘 작성, 입력 후 처리(요즘은 이 부분마저도 학습으로 맡겨버림 - filter 부분에서 학습)"
      ]
    },
    {
      "cell_type": "markdown",
      "metadata": {
        "id": "ky74zSK9D71P",
        "colab_type": "text"
      },
      "source": [
        "conv2d 레이어의 파라매터 수는 다음에 의해서 결정된다.\n",
        "```\n",
        "파라매터 수 = (conv필터 가로 * conv 필터 세로 * 데이터 깊이 + bias 1개) * 필터 수\n",
        "```\n",
        "위 모델의 경우 파라매터 수 320, 18496은 다음과 같이 결정된다.\n",
        "\n",
        "```\n",
        "320 = (3*3*1+1) * 32\n",
        "\n",
        "18496 = (3*3*32+1)*64\n",
        "```\n",
        "\n",
        "```\n",
        "_________________________________________________________________\n",
        "Layer (type)                 Output Shape              Param #   \n",
        "=================================================================\n",
        "conv2d (Conv2D)              (None, 26, 26, 32)        320       \n",
        "_________________________________________________________________\n",
        "max_pooling2d (MaxPooling2D) (None, 13, 13, 32)        0         \n",
        "_________________________________________________________________\n",
        "conv2d_1 (Conv2D)            (None, 11, 11, 64)        18496     \n",
        "```"
      ]
    },
    {
      "cell_type": "code",
      "metadata": {
        "id": "nRkSjvdSkgfc",
        "colab_type": "code",
        "colab": {}
      },
      "source": [
        ""
      ],
      "execution_count": 0,
      "outputs": []
    }
  ]
}