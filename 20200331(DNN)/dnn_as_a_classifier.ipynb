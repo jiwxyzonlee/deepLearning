{
  "nbformat": 4,
  "nbformat_minor": 0,
  "metadata": {
    "colab": {
      "name": "dnn_as_a_classifier (1).ipynb",
      "provenance": [],
      "collapsed_sections": []
    },
    "kernelspec": {
      "name": "python3",
      "display_name": "Python 3"
    }
  },
  "cells": [
    {
      "cell_type": "markdown",
      "metadata": {
        "id": "lGGNdnhLopTZ",
        "colab_type": "text"
      },
      "source": [
        "copy from:\n",
        "\n",
        "https://github.com/dhrim/joongang_2020_03/blob/master/material/deep_learning/dnn_as_a_classifier.ipynb"
      ]
    },
    {
      "cell_type": "markdown",
      "metadata": {
        "id": "bCKgjM9-xygH",
        "colab_type": "text"
      },
      "source": [
        "# 분류기로서의 DNN"
      ]
    },
    {
      "cell_type": "code",
      "metadata": {
        "id": "etOyOaq6xxHv",
        "colab_type": "code",
        "colab": {}
      },
      "source": [
        "import numpy as np\n",
        "import pandas as pd\n",
        "\n",
        "import tensorflow as tf\n",
        "from tensorflow import keras\n",
        "\n",
        "import numpy as np\n",
        "import matplotlib.pyplot as plt\n",
        "\n",
        "import time"
      ],
      "execution_count": 0,
      "outputs": []
    },
    {
      "cell_type": "code",
      "metadata": {
        "id": "OmBdLDqix7Jh",
        "colab_type": "code",
        "colab": {}
      },
      "source": [
        "def build_square_data(all_low, all_high, square_low, square_high, zero_count, one_count):\n",
        "\n",
        "  x1 = np.random.rand(one_count)\n",
        "  x1 = x1*(square_high-square_low) + square_low\n",
        "\n",
        "  x0 = np.random.rand(zero_count*100)\n",
        "  x0 = x0[ (x0<square_low) | (square_high<x0) ]\n",
        "  x0 = x0[:zero_count]\n",
        "\n",
        "  x = np.append(x1, x0)\n",
        "\n",
        "  plt.hist(x)\n",
        "  plt.xlim(0, 1)\n",
        "  plt.show()\n",
        "\n",
        "  # 범위 안의 것을 1, 범위 밖의 것을 0으로 하고\n",
        "  all_data = np.ones((len(x),2))\n",
        "  all_data[:,0] = x\n",
        "\n",
        "  all_data[:len(x1),1] = 1\n",
        "  all_data[len(x1):,1] = 0\n",
        "\n",
        "  # 섞는다\n",
        "  np.random.shuffle(all_data)\n",
        "\n",
        "  # x, y로 분리하고\n",
        "  x = all_data[:,0]\n",
        "  y = all_data[:,1]\n",
        "\n",
        "  plt.xlim(0, 1)\n",
        "\n",
        "  plt.scatter(x, y)\n",
        "\n",
        "  return x, y"
      ],
      "execution_count": 0,
      "outputs": []
    },
    {
      "cell_type": "markdown",
      "metadata": {
        "id": "HJ5rov-EyCN4",
        "colab_type": "text"
      },
      "source": [
        "# 네모 함수의 학습\n",
        "\n",
        "특정 영역은 1, 이외의 영역은 0을 출력\n",
        "\n",
        "1개의 출력 노드를 갖는다."
      ]
    },
    {
      "cell_type": "code",
      "metadata": {
        "id": "10wyiaaEx_Eo",
        "colab_type": "code",
        "outputId": "7faa6c9b-6fae-4835-f0b5-6d3dcf927e61",
        "colab": {
          "base_uri": "https://localhost:8080/",
          "height": 513
        }
      },
      "source": [
        "all_low = 0\n",
        "all_high = 1\n",
        "square_low = 0.5\n",
        "square_high = 0.6\n",
        "zero_count = 10000\n",
        "one_count = 10000\n",
        "\n",
        "train_x, train_y = build_square_data(all_low, all_high, square_low, square_high, zero_count, one_count)"
      ],
      "execution_count": 0,
      "outputs": [
        {
          "output_type": "display_data",
          "data": {
            "image/png": "[encoded data removed]",
            "text/plain": [
              "<Figure size 432x288 with 1 Axes>"
            ]
          },
          "metadata": {
            "tags": []
          }
        },
        {
          "output_type": "display_data",
          "data": {
            "image/png": "[encoded data removed]",
            "text/plain": [
              "<Figure size 432x288 with 1 Axes>"
            ]
          },
          "metadata": {
            "tags": []
          }
        }
      ]
    },
    {
      "cell_type": "code",
      "metadata": {
        "id": "K7fuP8OIyJBP",
        "colab_type": "code",
        "outputId": "5136189b-ce65-442c-d82a-61e019a7a1fd",
        "colab": {
          "base_uri": "https://localhost:8080/",
          "height": 1000
        }
      },
      "source": [
        "from tensorflow import keras\n",
        "from tensorflow.keras import optimizers\n",
        "from tensorflow.keras.layers import Dense\n",
        "from tensorflow.keras.optimizers import SGD\n",
        "\n",
        "\n",
        "model = keras.Sequential()\n",
        "model.add(Dense(10, activation='relu', input_shape=(1,)))\n",
        "model.add(Dense(10, activation='relu'))\n",
        "model.add(Dense(10, activation='relu'))\n",
        "model.add(Dense(1, activation=\"sigmoid\"))\n",
        "\n",
        "\n",
        "model.compile(optimizer=\"SGD\", loss=\"mse\")\n",
        "model.fit(train_x, train_y, epochs=100, verbose=1, batch_size=32, validation_split=0.1)\n",
        "\n",
        "x_ = np.arange(all_low, all_high, 0.01)\n",
        "y_ = model.predict(x_)\n",
        "plt.scatter(x_, y_)"
      ],
      "execution_count": 0,
      "outputs": [
        {
          "output_type": "stream",
          "text": [
            "Epoch 1/100\n",
            "563/563 [==============================] - 1s 1ms/step - loss: 0.2478 - val_loss: 0.2444\n",
            "Epoch 2/100\n",
            "563/563 [==============================] - 1s 1ms/step - loss: 0.2426 - val_loss: 0.2410\n",
            "Epoch 3/100\n",
            "563/563 [==============================] - 1s 1ms/step - loss: 0.2395 - val_loss: 0.2375\n",
            "Epoch 4/100\n",
            "563/563 [==============================] - 1s 1ms/step - loss: 0.2356 - val_loss: 0.2329\n",
            "Epoch 5/100\n",
            "563/563 [==============================] - 1s 1ms/step - loss: 0.2303 - val_loss: 0.2267\n",
            "Epoch 6/100\n",
            "563/563 [==============================] - 1s 1ms/step - loss: 0.2232 - val_loss: 0.2184\n",
            "Epoch 7/100\n",
            "563/563 [==============================] - 1s 1ms/step - loss: 0.2136 - val_loss: 0.2072\n",
            "Epoch 8/100\n",
            "563/563 [==============================] - 1s 1ms/step - loss: 0.2010 - val_loss: 0.1927\n",
            "Epoch 9/100\n",
            "563/563 [==============================] - 1s 1ms/step - loss: 0.1849 - val_loss: 0.1748\n",
            "Epoch 10/100\n",
            "563/563 [==============================] - 1s 1ms/step - loss: 0.1655 - val_loss: 0.1538\n",
            "Epoch 11/100\n",
            "563/563 [==============================] - 1s 1ms/step - loss: 0.1439 - val_loss: 0.1315\n",
            "Epoch 12/100\n",
            "563/563 [==============================] - 1s 1ms/step - loss: 0.1222 - val_loss: 0.1105\n",
            "Epoch 13/100\n",
            "563/563 [==============================] - 1s 1ms/step - loss: 0.1029 - val_loss: 0.0931\n",
            "Epoch 14/100\n",
            "563/563 [==============================] - 1s 1ms/step - loss: 0.0873 - val_loss: 0.0791\n",
            "Epoch 15/100\n",
            "563/563 [==============================] - 1s 1ms/step - loss: 0.0751 - val_loss: 0.0687\n",
            "Epoch 16/100\n",
            "563/563 [==============================] - 1s 1ms/step - loss: 0.0656 - val_loss: 0.0600\n",
            "Epoch 17/100\n",
            "563/563 [==============================] - 1s 1ms/step - loss: 0.0583 - val_loss: 0.0532\n",
            "Epoch 18/100\n",
            "563/563 [==============================] - 1s 1ms/step - loss: 0.0523 - val_loss: 0.0478\n",
            "Epoch 19/100\n",
            "563/563 [==============================] - 1s 1ms/step - loss: 0.0476 - val_loss: 0.0434\n",
            "Epoch 20/100\n",
            "563/563 [==============================] - 1s 1ms/step - loss: 0.0436 - val_loss: 0.0397\n",
            "Epoch 21/100\n",
            "563/563 [==============================] - 1s 1ms/step - loss: 0.0403 - val_loss: 0.0370\n",
            "Epoch 22/100\n",
            "563/563 [==============================] - 1s 1ms/step - loss: 0.0374 - val_loss: 0.0340\n",
            "Epoch 23/100\n",
            "563/563 [==============================] - 1s 1ms/step - loss: 0.0350 - val_loss: 0.0316\n",
            "Epoch 24/100\n",
            "563/563 [==============================] - 1s 1ms/step - loss: 0.0329 - val_loss: 0.0297\n",
            "Epoch 25/100\n",
            "563/563 [==============================] - 1s 1ms/step - loss: 0.0311 - val_loss: 0.0280\n",
            "Epoch 26/100\n",
            "563/563 [==============================] - 1s 1ms/step - loss: 0.0294 - val_loss: 0.0264\n",
            "Epoch 27/100\n",
            "563/563 [==============================] - 1s 1ms/step - loss: 0.0279 - val_loss: 0.0250\n",
            "Epoch 28/100\n",
            "563/563 [==============================] - 1s 1ms/step - loss: 0.0266 - val_loss: 0.0249\n",
            "Epoch 29/100\n",
            "563/563 [==============================] - 1s 1ms/step - loss: 0.0254 - val_loss: 0.0228\n",
            "Epoch 30/100\n",
            "563/563 [==============================] - 1s 1ms/step - loss: 0.0243 - val_loss: 0.0217\n",
            "Epoch 31/100\n",
            "563/563 [==============================] - 1s 1ms/step - loss: 0.0234 - val_loss: 0.0208\n",
            "Epoch 32/100\n",
            "563/563 [==============================] - 1s 1ms/step - loss: 0.0225 - val_loss: 0.0201\n",
            "Epoch 33/100\n",
            "563/563 [==============================] - 1s 1ms/step - loss: 0.0217 - val_loss: 0.0194\n",
            "Epoch 34/100\n",
            "563/563 [==============================] - 1s 1ms/step - loss: 0.0209 - val_loss: 0.0193\n",
            "Epoch 35/100\n",
            "563/563 [==============================] - 1s 1ms/step - loss: 0.0203 - val_loss: 0.0184\n",
            "Epoch 36/100\n",
            "563/563 [==============================] - 1s 1ms/step - loss: 0.0196 - val_loss: 0.0181\n",
            "Epoch 37/100\n",
            "563/563 [==============================] - 1s 1ms/step - loss: 0.0190 - val_loss: 0.0167\n",
            "Epoch 38/100\n",
            "563/563 [==============================] - 1s 1ms/step - loss: 0.0185 - val_loss: 0.0163\n",
            "Epoch 39/100\n",
            "563/563 [==============================] - 1s 1ms/step - loss: 0.0180 - val_loss: 0.0157\n",
            "Epoch 40/100\n",
            "563/563 [==============================] - 1s 1ms/step - loss: 0.0175 - val_loss: 0.0152\n",
            "Epoch 41/100\n",
            "563/563 [==============================] - 1s 1ms/step - loss: 0.0171 - val_loss: 0.0148\n",
            "Epoch 42/100\n",
            "563/563 [==============================] - 1s 1ms/step - loss: 0.0166 - val_loss: 0.0148\n",
            "Epoch 43/100\n",
            "563/563 [==============================] - 1s 1ms/step - loss: 0.0162 - val_loss: 0.0142\n",
            "Epoch 44/100\n",
            "563/563 [==============================] - 1s 1ms/step - loss: 0.0158 - val_loss: 0.0143\n",
            "Epoch 45/100\n",
            "563/563 [==============================] - 1s 1ms/step - loss: 0.0154 - val_loss: 0.0133\n",
            "Epoch 46/100\n",
            "563/563 [==============================] - 1s 1ms/step - loss: 0.0151 - val_loss: 0.0130\n",
            "Epoch 47/100\n",
            "563/563 [==============================] - 1s 1ms/step - loss: 0.0148 - val_loss: 0.0127\n",
            "Epoch 48/100\n",
            "563/563 [==============================] - 1s 1ms/step - loss: 0.0145 - val_loss: 0.0124\n",
            "Epoch 49/100\n",
            "563/563 [==============================] - 1s 1ms/step - loss: 0.0142 - val_loss: 0.0122\n",
            "Epoch 50/100\n",
            "563/563 [==============================] - 1s 1ms/step - loss: 0.0139 - val_loss: 0.0122\n",
            "Epoch 51/100\n",
            "563/563 [==============================] - 1s 1ms/step - loss: 0.0136 - val_loss: 0.0116\n",
            "Epoch 52/100\n",
            "563/563 [==============================] - 1s 1ms/step - loss: 0.0134 - val_loss: 0.0114\n",
            "Epoch 53/100\n",
            "563/563 [==============================] - 1s 1ms/step - loss: 0.0131 - val_loss: 0.0118\n",
            "Epoch 54/100\n",
            "563/563 [==============================] - 1s 1ms/step - loss: 0.0129 - val_loss: 0.0110\n",
            "Epoch 55/100\n",
            "563/563 [==============================] - 1s 1ms/step - loss: 0.0127 - val_loss: 0.0109\n",
            "Epoch 56/100\n",
            "563/563 [==============================] - 1s 1ms/step - loss: 0.0125 - val_loss: 0.0111\n",
            "Epoch 57/100\n",
            "563/563 [==============================] - 1s 1ms/step - loss: 0.0122 - val_loss: 0.0104\n",
            "Epoch 58/100\n",
            "563/563 [==============================] - 1s 1ms/step - loss: 0.0120 - val_loss: 0.0104\n",
            "Epoch 59/100\n",
            "563/563 [==============================] - 1s 1ms/step - loss: 0.0119 - val_loss: 0.0099\n",
            "Epoch 60/100\n",
            "563/563 [==============================] - 1s 1ms/step - loss: 0.0117 - val_loss: 0.0100\n",
            "Epoch 61/100\n",
            "563/563 [==============================] - 1s 1ms/step - loss: 0.0115 - val_loss: 0.0113\n",
            "Epoch 62/100\n",
            "563/563 [==============================] - 1s 1ms/step - loss: 0.0113 - val_loss: 0.0094\n",
            "Epoch 63/100\n",
            "563/563 [==============================] - 1s 1ms/step - loss: 0.0112 - val_loss: 0.0092\n",
            "Epoch 64/100\n",
            "563/563 [==============================] - 1s 1ms/step - loss: 0.0110 - val_loss: 0.0097\n",
            "Epoch 65/100\n",
            "563/563 [==============================] - 1s 1ms/step - loss: 0.0109 - val_loss: 0.0090\n",
            "Epoch 66/100\n",
            "563/563 [==============================] - 1s 1ms/step - loss: 0.0107 - val_loss: 0.0093\n",
            "Epoch 67/100\n",
            "563/563 [==============================] - 1s 1ms/step - loss: 0.0106 - val_loss: 0.0086\n",
            "Epoch 68/100\n",
            "563/563 [==============================] - 1s 1ms/step - loss: 0.0105 - val_loss: 0.0085\n",
            "Epoch 69/100\n",
            "563/563 [==============================] - 1s 1ms/step - loss: 0.0103 - val_loss: 0.0084\n",
            "Epoch 70/100\n",
            "563/563 [==============================] - 1s 1ms/step - loss: 0.0102 - val_loss: 0.0084\n",
            "Epoch 71/100\n",
            "563/563 [==============================] - 1s 1ms/step - loss: 0.0101 - val_loss: 0.0081\n",
            "Epoch 72/100\n",
            "563/563 [==============================] - 1s 1ms/step - loss: 0.0100 - val_loss: 0.0080\n",
            "Epoch 73/100\n",
            "563/563 [==============================] - 1s 1ms/step - loss: 0.0098 - val_loss: 0.0080\n",
            "Epoch 74/100\n",
            "563/563 [==============================] - 1s 1ms/step - loss: 0.0097 - val_loss: 0.0080\n",
            "Epoch 75/100\n",
            "563/563 [==============================] - 1s 1ms/step - loss: 0.0096 - val_loss: 0.0078\n",
            "Epoch 76/100\n",
            "563/563 [==============================] - 1s 1ms/step - loss: 0.0095 - val_loss: 0.0077\n",
            "Epoch 77/100\n",
            "563/563 [==============================] - 1s 1ms/step - loss: 0.0094 - val_loss: 0.0080\n",
            "Epoch 78/100\n",
            "563/563 [==============================] - 1s 1ms/step - loss: 0.0093 - val_loss: 0.0079\n",
            "Epoch 79/100\n",
            "563/563 [==============================] - 1s 1ms/step - loss: 0.0092 - val_loss: 0.0073\n",
            "Epoch 80/100\n",
            "563/563 [==============================] - 1s 1ms/step - loss: 0.0091 - val_loss: 0.0072\n",
            "Epoch 81/100\n",
            "563/563 [==============================] - 1s 1ms/step - loss: 0.0090 - val_loss: 0.0071\n",
            "Epoch 82/100\n",
            "563/563 [==============================] - 1s 1ms/step - loss: 0.0090 - val_loss: 0.0070\n",
            "Epoch 83/100\n",
            "563/563 [==============================] - 1s 1ms/step - loss: 0.0089 - val_loss: 0.0069\n",
            "Epoch 84/100\n",
            "563/563 [==============================] - 1s 1ms/step - loss: 0.0088 - val_loss: 0.0075\n",
            "Epoch 85/100\n",
            "563/563 [==============================] - 1s 1ms/step - loss: 0.0087 - val_loss: 0.0069\n",
            "Epoch 86/100\n",
            "563/563 [==============================] - 1s 1ms/step - loss: 0.0086 - val_loss: 0.0075\n",
            "Epoch 87/100\n",
            "563/563 [==============================] - 1s 1ms/step - loss: 0.0085 - val_loss: 0.0069\n",
            "Epoch 88/100\n",
            "563/563 [==============================] - 1s 1ms/step - loss: 0.0085 - val_loss: 0.0065\n",
            "Epoch 89/100\n",
            "563/563 [==============================] - 1s 1ms/step - loss: 0.0083 - val_loss: 0.0068\n",
            "Epoch 90/100\n",
            "563/563 [==============================] - 1s 1ms/step - loss: 0.0082 - val_loss: 0.0065\n",
            "Epoch 91/100\n",
            "563/563 [==============================] - 1s 1ms/step - loss: 0.0082 - val_loss: 0.0063\n",
            "Epoch 92/100\n",
            "563/563 [==============================] - 1s 1ms/step - loss: 0.0081 - val_loss: 0.0066\n",
            "Epoch 93/100\n",
            "563/563 [==============================] - 1s 1ms/step - loss: 0.0081 - val_loss: 0.0062\n",
            "Epoch 94/100\n",
            "563/563 [==============================] - 1s 1ms/step - loss: 0.0080 - val_loss: 0.0073\n",
            "Epoch 95/100\n",
            "563/563 [==============================] - 1s 1ms/step - loss: 0.0079 - val_loss: 0.0060\n",
            "Epoch 96/100\n",
            "563/563 [==============================] - 1s 1ms/step - loss: 0.0078 - val_loss: 0.0061\n",
            "Epoch 97/100\n",
            "563/563 [==============================] - 1s 1ms/step - loss: 0.0078 - val_loss: 0.0063\n",
            "Epoch 98/100\n",
            "563/563 [==============================] - 1s 1ms/step - loss: 0.0077 - val_loss: 0.0059\n",
            "Epoch 99/100\n",
            "563/563 [==============================] - 1s 1ms/step - loss: 0.0077 - val_loss: 0.0062\n",
            "Epoch 100/100\n",
            "563/563 [==============================] - 1s 1ms/step - loss: 0.0076 - val_loss: 0.0059\n"
          ],
          "name": "stdout"
        },
        {
          "output_type": "execute_result",
          "data": {
            "text/plain": [
              "<matplotlib.collections.PathCollection at 0x7ff58476c160>"
            ]
          },
          "metadata": {
            "tags": []
          },
          "execution_count": 5
        },
        {
          "output_type": "display_data",
          "data": {
            "image/png": "[encoded data removed]",
            "text/plain": [
              "<Figure size 432x288 with 1 Axes>"
            ]
          },
          "metadata": {
            "tags": []
          }
        }
      ]
    },
    {
      "cell_type": "markdown",
      "metadata": {
        "id": "rKbC_Lnyyavy",
        "colab_type": "text"
      },
      "source": [
        "특정 패턴인 경우 1, 다른 경우인 경우 0으로 분류한다.\n",
        "\n",
        "출력된 값이 0.5보다 크면 1로, 0.5보다 작으면 0으로 간주한다."
      ]
    },
    {
      "cell_type": "markdown",
      "metadata": {
        "id": "xjdw0YWYzOzf",
        "colab_type": "text"
      },
      "source": [
        "# 클래스 2개, 출력 노드 2개\n",
        "\n",
        "분류 카테고리의 개수 대로 출력노드를 갖고, one-hot-encoding된 값을 출력하면, 변별력이 커진다."
      ]
    },
    {
      "cell_type": "code",
      "metadata": {
        "id": "2LM2kPa60My1",
        "colab_type": "code",
        "outputId": "20b8aea0-b87b-40ba-a384-21a50a65d9b7",
        "colab": {
          "base_uri": "https://localhost:8080/",
          "height": 513
        }
      },
      "source": [
        "all_low = 0\n",
        "all_high = 1\n",
        "square_low = 0.5\n",
        "square_high = 0.6\n",
        "zero_count = 10000\n",
        "one_count = 10000\n",
        "\n",
        "train_x, train_y = build_square_data(all_low, all_high, square_low, square_high, zero_count, one_count)"
      ],
      "execution_count": 0,
      "outputs": [
        {
          "output_type": "display_data",
          "data": {
            "image/png": "[encoded data removed]",
            "text/plain": [
              "<Figure size 432x288 with 1 Axes>"
            ]
          },
          "metadata": {
            "tags": []
          }
        },
        {
          "output_type": "display_data",
          "data": {
            "image/png": "[encoded data removed]",
            "text/plain": [
              "<Figure size 432x288 with 1 Axes>"
            ]
          },
          "metadata": {
            "tags": []
          }
        }
      ]
    },
    {
      "cell_type": "code",
      "metadata": {
        "id": "PiFWYY4Z1B2D",
        "colab_type": "code",
        "colab": {}
      },
      "source": [
        "# ADD START\n",
        "reshaped_y = train_y.reshape((train_y.shape[0],1))\n",
        "train_y = np.append(reshaped_y, reshaped_y, axis=1)\n",
        "train_y[:,1] = 1-train_y[:,0]\n",
        "# ADD END"
      ],
      "execution_count": 0,
      "outputs": []
    },
    {
      "cell_type": "code",
      "metadata": {
        "id": "1yBDVshEyMxb",
        "colab_type": "code",
        "outputId": "b9b42887-bd64-4033-e804-6a8c1008279b",
        "colab": {
          "base_uri": "https://localhost:8080/",
          "height": 1000
        }
      },
      "source": [
        "from tensorflow import keras\n",
        "from tensorflow.keras import optimizers\n",
        "from tensorflow.keras.layers import Dense\n",
        "from tensorflow.keras.optimizers import SGD\n",
        "\n",
        "\n",
        "model = keras.Sequential()\n",
        "model.add(Dense(10, activation='relu', input_shape=(1,)))\n",
        "model.add(Dense(10, activation='relu'))\n",
        "model.add(Dense(10, activation='relu'))\n",
        "# model.add(Dense(1))\n",
        "model.add(Dense(2))\n",
        "\n",
        "model.compile(optimizer=\"SGD\", loss=\"mse\")\n",
        "model.fit(train_x, train_y, epochs=100, verbose=1, batch_size=32, validation_split=0.1)\n",
        "\n",
        "x_ = np.arange(all_low, all_high, 0.01)\n",
        "y_ = model.predict(x_)\n",
        "plt.scatter(x_, y_[:,0])"
      ],
      "execution_count": 0,
      "outputs": [
        {
          "output_type": "stream",
          "text": [
            "Epoch 1/100\n",
            "563/563 [==============================] - 1s 1ms/step - loss: 0.2622 - val_loss: 0.2374\n",
            "Epoch 2/100\n",
            "563/563 [==============================] - 1s 1ms/step - loss: 0.2267 - val_loss: 0.2120\n",
            "Epoch 3/100\n",
            "563/563 [==============================] - 1s 1ms/step - loss: 0.1963 - val_loss: 0.1750\n",
            "Epoch 4/100\n",
            "563/563 [==============================] - 1s 1ms/step - loss: 0.1495 - val_loss: 0.1155\n",
            "Epoch 5/100\n",
            "563/563 [==============================] - 1s 1ms/step - loss: 0.0938 - val_loss: 0.0764\n",
            "Epoch 6/100\n",
            "563/563 [==============================] - 1s 1ms/step - loss: 0.0701 - val_loss: 0.0646\n",
            "Epoch 7/100\n",
            "563/563 [==============================] - 1s 1ms/step - loss: 0.0621 - val_loss: 0.0571\n",
            "Epoch 8/100\n",
            "563/563 [==============================] - 1s 1ms/step - loss: 0.0572 - val_loss: 0.0539\n",
            "Epoch 9/100\n",
            "563/563 [==============================] - 1s 1ms/step - loss: 0.0533 - val_loss: 0.0503\n",
            "Epoch 10/100\n",
            "563/563 [==============================] - 1s 1ms/step - loss: 0.0500 - val_loss: 0.0458\n",
            "Epoch 11/100\n",
            "563/563 [==============================] - 1s 1ms/step - loss: 0.0455 - val_loss: 0.0422\n",
            "Epoch 12/100\n",
            "563/563 [==============================] - 1s 1ms/step - loss: 0.0427 - val_loss: 0.0409\n",
            "Epoch 13/100\n",
            "563/563 [==============================] - 1s 1ms/step - loss: 0.0404 - val_loss: 0.0380\n",
            "Epoch 14/100\n",
            "563/563 [==============================] - 1s 1ms/step - loss: 0.0382 - val_loss: 0.0353\n",
            "Epoch 15/100\n",
            "563/563 [==============================] - 1s 1ms/step - loss: 0.0362 - val_loss: 0.0335\n",
            "Epoch 16/100\n",
            "563/563 [==============================] - 1s 1ms/step - loss: 0.0344 - val_loss: 0.0315\n",
            "Epoch 17/100\n",
            "563/563 [==============================] - 1s 1ms/step - loss: 0.0326 - val_loss: 0.0298\n",
            "Epoch 18/100\n",
            "563/563 [==============================] - 1s 1ms/step - loss: 0.0309 - val_loss: 0.0280\n",
            "Epoch 19/100\n",
            "563/563 [==============================] - 1s 1ms/step - loss: 0.0293 - val_loss: 0.0266\n",
            "Epoch 20/100\n",
            "563/563 [==============================] - 1s 1ms/step - loss: 0.0277 - val_loss: 0.0248\n",
            "Epoch 21/100\n",
            "563/563 [==============================] - 1s 1ms/step - loss: 0.0262 - val_loss: 0.0235\n",
            "Epoch 22/100\n",
            "563/563 [==============================] - 1s 1ms/step - loss: 0.0248 - val_loss: 0.0248\n",
            "Epoch 23/100\n",
            "563/563 [==============================] - 1s 1ms/step - loss: 0.0235 - val_loss: 0.0212\n",
            "Epoch 24/100\n",
            "563/563 [==============================] - 1s 1ms/step - loss: 0.0223 - val_loss: 0.0195\n",
            "Epoch 25/100\n",
            "563/563 [==============================] - 1s 1ms/step - loss: 0.0211 - val_loss: 0.0200\n",
            "Epoch 26/100\n",
            "563/563 [==============================] - 1s 1ms/step - loss: 0.0201 - val_loss: 0.0175\n",
            "Epoch 27/100\n",
            "563/563 [==============================] - 1s 1ms/step - loss: 0.0192 - val_loss: 0.0166\n",
            "Epoch 28/100\n",
            "563/563 [==============================] - 1s 1ms/step - loss: 0.0184 - val_loss: 0.0159\n",
            "Epoch 29/100\n",
            "563/563 [==============================] - 1s 1ms/step - loss: 0.0176 - val_loss: 0.0152\n",
            "Epoch 30/100\n",
            "563/563 [==============================] - 1s 1ms/step - loss: 0.0170 - val_loss: 0.0151\n",
            "Epoch 31/100\n",
            "563/563 [==============================] - 1s 1ms/step - loss: 0.0163 - val_loss: 0.0141\n",
            "Epoch 32/100\n",
            "563/563 [==============================] - 1s 1ms/step - loss: 0.0158 - val_loss: 0.0135\n",
            "Epoch 33/100\n",
            "563/563 [==============================] - 1s 1ms/step - loss: 0.0152 - val_loss: 0.0137\n",
            "Epoch 34/100\n",
            "563/563 [==============================] - 1s 1ms/step - loss: 0.0147 - val_loss: 0.0129\n",
            "Epoch 35/100\n",
            "563/563 [==============================] - 1s 1ms/step - loss: 0.0143 - val_loss: 0.0118\n",
            "Epoch 36/100\n",
            "563/563 [==============================] - 1s 1ms/step - loss: 0.0139 - val_loss: 0.0115\n",
            "Epoch 37/100\n",
            "563/563 [==============================] - 1s 1ms/step - loss: 0.0133 - val_loss: 0.0124\n",
            "Epoch 38/100\n",
            "563/563 [==============================] - 1s 1ms/step - loss: 0.0130 - val_loss: 0.0109\n",
            "Epoch 39/100\n",
            "563/563 [==============================] - 1s 1ms/step - loss: 0.0127 - val_loss: 0.0110\n",
            "Epoch 40/100\n",
            "563/563 [==============================] - 1s 1ms/step - loss: 0.0123 - val_loss: 0.0103\n",
            "Epoch 41/100\n",
            "563/563 [==============================] - 1s 1ms/step - loss: 0.0120 - val_loss: 0.0110\n",
            "Epoch 42/100\n",
            "563/563 [==============================] - 1s 1ms/step - loss: 0.0118 - val_loss: 0.0096\n",
            "Epoch 43/100\n",
            "563/563 [==============================] - 1s 1ms/step - loss: 0.0115 - val_loss: 0.0100\n",
            "Epoch 44/100\n",
            "563/563 [==============================] - 1s 1ms/step - loss: 0.0113 - val_loss: 0.0099\n",
            "Epoch 45/100\n",
            "563/563 [==============================] - 1s 1ms/step - loss: 0.0109 - val_loss: 0.0092\n",
            "Epoch 46/100\n",
            "563/563 [==============================] - 1s 1ms/step - loss: 0.0106 - val_loss: 0.0119\n",
            "Epoch 47/100\n",
            "563/563 [==============================] - 1s 1ms/step - loss: 0.0105 - val_loss: 0.0088\n",
            "Epoch 48/100\n",
            "563/563 [==============================] - 1s 1ms/step - loss: 0.0102 - val_loss: 0.0082\n",
            "Epoch 49/100\n",
            "563/563 [==============================] - 1s 1ms/step - loss: 0.0101 - val_loss: 0.0084\n",
            "Epoch 50/100\n",
            "563/563 [==============================] - 1s 1ms/step - loss: 0.0099 - val_loss: 0.0084\n",
            "Epoch 51/100\n",
            "563/563 [==============================] - 1s 1ms/step - loss: 0.0097 - val_loss: 0.0081\n",
            "Epoch 52/100\n",
            "563/563 [==============================] - 1s 1ms/step - loss: 0.0095 - val_loss: 0.0078\n",
            "Epoch 53/100\n",
            "563/563 [==============================] - 1s 1ms/step - loss: 0.0094 - val_loss: 0.0075\n",
            "Epoch 54/100\n",
            "563/563 [==============================] - 1s 1ms/step - loss: 0.0092 - val_loss: 0.0076\n",
            "Epoch 55/100\n",
            "563/563 [==============================] - 1s 1ms/step - loss: 0.0091 - val_loss: 0.0076\n",
            "Epoch 56/100\n",
            "563/563 [==============================] - 1s 1ms/step - loss: 0.0091 - val_loss: 0.0073\n",
            "Epoch 57/100\n",
            "563/563 [==============================] - 1s 1ms/step - loss: 0.0087 - val_loss: 0.0070\n",
            "Epoch 58/100\n",
            "563/563 [==============================] - 1s 1ms/step - loss: 0.0087 - val_loss: 0.0070\n",
            "Epoch 59/100\n",
            "563/563 [==============================] - 1s 1ms/step - loss: 0.0086 - val_loss: 0.0073\n",
            "Epoch 60/100\n",
            "563/563 [==============================] - 1s 1ms/step - loss: 0.0084 - val_loss: 0.0069\n",
            "Epoch 61/100\n",
            "563/563 [==============================] - 1s 1ms/step - loss: 0.0084 - val_loss: 0.0076\n",
            "Epoch 62/100\n",
            "563/563 [==============================] - 1s 1ms/step - loss: 0.0082 - val_loss: 0.0075\n",
            "Epoch 63/100\n",
            "563/563 [==============================] - 1s 1ms/step - loss: 0.0081 - val_loss: 0.0066\n",
            "Epoch 64/100\n",
            "563/563 [==============================] - 1s 1ms/step - loss: 0.0080 - val_loss: 0.0066\n",
            "Epoch 65/100\n",
            "563/563 [==============================] - 1s 1ms/step - loss: 0.0079 - val_loss: 0.0071\n",
            "Epoch 66/100\n",
            "563/563 [==============================] - 1s 1ms/step - loss: 0.0079 - val_loss: 0.0062\n",
            "Epoch 67/100\n",
            "563/563 [==============================] - 1s 1ms/step - loss: 0.0078 - val_loss: 0.0065\n",
            "Epoch 68/100\n",
            "563/563 [==============================] - 1s 2ms/step - loss: 0.0076 - val_loss: 0.0062\n",
            "Epoch 69/100\n",
            "563/563 [==============================] - 1s 1ms/step - loss: 0.0075 - val_loss: 0.0059\n",
            "Epoch 70/100\n",
            "563/563 [==============================] - 1s 1ms/step - loss: 0.0074 - val_loss: 0.0061\n",
            "Epoch 71/100\n",
            "563/563 [==============================] - 1s 1ms/step - loss: 0.0074 - val_loss: 0.0066\n",
            "Epoch 72/100\n",
            "563/563 [==============================] - 1s 1ms/step - loss: 0.0073 - val_loss: 0.0057\n",
            "Epoch 73/100\n",
            "563/563 [==============================] - 1s 1ms/step - loss: 0.0073 - val_loss: 0.0059\n",
            "Epoch 74/100\n",
            "563/563 [==============================] - 1s 1ms/step - loss: 0.0072 - val_loss: 0.0068\n",
            "Epoch 75/100\n",
            "563/563 [==============================] - 1s 1ms/step - loss: 0.0072 - val_loss: 0.0060\n",
            "Epoch 76/100\n",
            "563/563 [==============================] - 1s 1ms/step - loss: 0.0070 - val_loss: 0.0062\n",
            "Epoch 77/100\n",
            "563/563 [==============================] - 1s 1ms/step - loss: 0.0071 - val_loss: 0.0059\n",
            "Epoch 78/100\n",
            "563/563 [==============================] - 1s 1ms/step - loss: 0.0068 - val_loss: 0.0057\n",
            "Epoch 79/100\n",
            "563/563 [==============================] - 1s 1ms/step - loss: 0.0069 - val_loss: 0.0121\n",
            "Epoch 80/100\n",
            "563/563 [==============================] - 1s 1ms/step - loss: 0.0068 - val_loss: 0.0066\n",
            "Epoch 81/100\n",
            "563/563 [==============================] - 1s 1ms/step - loss: 0.0068 - val_loss: 0.0054\n",
            "Epoch 82/100\n",
            "563/563 [==============================] - 1s 1ms/step - loss: 0.0066 - val_loss: 0.0054\n",
            "Epoch 83/100\n",
            "563/563 [==============================] - 1s 1ms/step - loss: 0.0066 - val_loss: 0.0051\n",
            "Epoch 84/100\n",
            "563/563 [==============================] - 1s 1ms/step - loss: 0.0066 - val_loss: 0.0076\n",
            "Epoch 85/100\n",
            "563/563 [==============================] - 1s 1ms/step - loss: 0.0065 - val_loss: 0.0050\n",
            "Epoch 86/100\n",
            "563/563 [==============================] - 1s 1ms/step - loss: 0.0065 - val_loss: 0.0063\n",
            "Epoch 87/100\n",
            "563/563 [==============================] - 1s 1ms/step - loss: 0.0065 - val_loss: 0.0056\n",
            "Epoch 88/100\n",
            "563/563 [==============================] - 1s 1ms/step - loss: 0.0063 - val_loss: 0.0050\n",
            "Epoch 89/100\n",
            "563/563 [==============================] - 1s 1ms/step - loss: 0.0063 - val_loss: 0.0053\n",
            "Epoch 90/100\n",
            "563/563 [==============================] - 1s 1ms/step - loss: 0.0063 - val_loss: 0.0048\n",
            "Epoch 91/100\n",
            "563/563 [==============================] - 1s 1ms/step - loss: 0.0063 - val_loss: 0.0050\n",
            "Epoch 92/100\n",
            "563/563 [==============================] - 1s 1ms/step - loss: 0.0061 - val_loss: 0.0047\n",
            "Epoch 93/100\n",
            "563/563 [==============================] - 1s 1ms/step - loss: 0.0061 - val_loss: 0.0111\n",
            "Epoch 94/100\n",
            "563/563 [==============================] - 1s 1ms/step - loss: 0.0061 - val_loss: 0.0060\n",
            "Epoch 95/100\n",
            "563/563 [==============================] - 1s 1ms/step - loss: 0.0059 - val_loss: 0.0052\n",
            "Epoch 96/100\n",
            "563/563 [==============================] - 1s 1ms/step - loss: 0.0060 - val_loss: 0.0053\n",
            "Epoch 97/100\n",
            "563/563 [==============================] - 1s 1ms/step - loss: 0.0060 - val_loss: 0.0064\n",
            "Epoch 98/100\n",
            "563/563 [==============================] - 1s 1ms/step - loss: 0.0059 - val_loss: 0.0048\n",
            "Epoch 99/100\n",
            "563/563 [==============================] - 1s 1ms/step - loss: 0.0060 - val_loss: 0.0073\n",
            "Epoch 100/100\n",
            "563/563 [==============================] - 1s 1ms/step - loss: 0.0061 - val_loss: 0.0050\n"
          ],
          "name": "stdout"
        },
        {
          "output_type": "execute_result",
          "data": {
            "text/plain": [
              "<matplotlib.collections.PathCollection at 0x7ff58467dc18>"
            ]
          },
          "metadata": {
            "tags": []
          },
          "execution_count": 8
        },
        {
          "output_type": "display_data",
          "data": {
            "image/png": "[encoded data removed]",
            "text/plain": [
              "<Figure size 432x288 with 1 Axes>"
            ]
          },
          "metadata": {
            "tags": []
          }
        }
      ]
    },
    {
      "cell_type": "markdown",
      "metadata": {
        "id": "KzTg8ocJ11NI",
        "colab_type": "text"
      },
      "source": [
        "출력 노드의 값은 0과 1이 서로 상반된다.\n",
        "\n",
        "하지만 이렇게 카테고리 개수 만큼 출력 노드가 있는 경우, 카테고리를 2개 이상으로 해도 처리가 가능해 진다."
      ]
    },
    {
      "cell_type": "markdown",
      "metadata": {
        "id": "MckR3PraC79y",
        "colab_type": "text"
      },
      "source": [
        "# 클래스 4개, 출력 노드 4개"
      ]
    },
    {
      "cell_type": "code",
      "metadata": {
        "id": "s5MGpN31104d",
        "colab_type": "code",
        "outputId": "8cf95b9c-3453-474f-ac2c-4ffde81cd391",
        "colab": {
          "base_uri": "https://localhost:8080/",
          "height": 805
        }
      },
      "source": [
        "train_x = np.arange(0, 1, 0.001)\n",
        "\n",
        "class_index = np.zeros_like(train_x, dtype=np.int)\n",
        "class_index[:250] = 0\n",
        "class_index[250:500] = 1\n",
        "class_index[500:750] = 2\n",
        "class_index[750:] = 3\n",
        "\n",
        "\n",
        "plt.scatter(train_x, class_index)\n",
        "plt.show()\n",
        "\n",
        "train_y = np.zeros((1000, 4))\n",
        "train_y[np.arange(1000), class_index] = 1 # one-hot 인코딩\n",
        "\n",
        "print(train_y[245:255])"
      ],
      "execution_count": 0,
      "outputs": [
        {
          "output_type": "display_data",
          "data": {
            "image/png": "[encoded data removed]",
            "text/plain": [
              "<Figure size 432x288 with 1 Axes>"
            ]
          },
          "metadata": {
            "tags": []
          }
        },
        {
          "output_type": "stream",
          "text": [
            "[[1. 0. 0. 0.]\n",
            " [1. 0. 0. 0.]\n",
            " [1. 0. 0. 0.]\n",
            " [1. 0. 0. 0.]\n",
            " [1. 0. 0. 0.]\n",
            " [0. 1. 0. 0.]\n",
            " [0. 1. 0. 0.]\n",
            " [0. 1. 0. 0.]\n",
            " [0. 1. 0. 0.]\n",
            " [0. 1. 0. 0.]]\n",
            "[[0. 1. 0. 0.]\n",
            " [0. 1. 0. 0.]\n",
            " [0. 1. 0. 0.]\n",
            " [0. 1. 0. 0.]\n",
            " [0. 1. 0. 0.]\n",
            " [0. 1. 0. 0.]\n",
            " [0. 1. 0. 0.]\n",
            " [0. 1. 0. 0.]\n",
            " [0. 1. 0. 0.]\n",
            " [0. 1. 0. 0.]\n",
            " [0. 1. 0. 0.]\n",
            " [0. 1. 0. 0.]\n",
            " [0. 1. 0. 0.]\n",
            " [0. 1. 0. 0.]\n",
            " [0. 1. 0. 0.]\n",
            " [0. 1. 0. 0.]\n",
            " [0. 1. 0. 0.]\n",
            " [0. 1. 0. 0.]\n",
            " [0. 1. 0. 0.]\n",
            " [0. 1. 0. 0.]]\n"
          ],
          "name": "stdout"
        }
      ]
    },
    {
      "cell_type": "code",
      "metadata": {
        "id": "yueRB3TCGBVx",
        "colab_type": "code",
        "outputId": "1f52267c-af14-425f-ae9e-9823138b7051",
        "colab": {
          "base_uri": "https://localhost:8080/",
          "height": 1000
        }
      },
      "source": [
        "from tensorflow import keras\n",
        "from tensorflow.keras import optimizers\n",
        "from tensorflow.keras.layers import Dense\n",
        "from tensorflow.keras.optimizers import SGD\n",
        "\n",
        "\n",
        "model = keras.Sequential()\n",
        "model.add(Dense(10, activation='relu', input_shape=(1,)))\n",
        "model.add(Dense(10, activation='relu'))\n",
        "model.add(Dense(10, activation='relu'))\n",
        "model.add(Dense(4))\n",
        "\n",
        "model.compile(optimizer=\"SGD\", loss=\"mse\")\n",
        "model.fit(train_x, train_y, epochs=100, verbose=1, batch_size=1, validation_split=0.1)\n",
        "\n",
        "x_ = np.arange(0, 1, 0.01)\n",
        "y_ = model.predict(x_)\n",
        "for i in range(4):\n",
        "  plt.scatter(x_, y_[:,i])\n",
        "  plt.show()\n"
      ],
      "execution_count": 0,
      "outputs": [
        {
          "output_type": "stream",
          "text": [
            "Epoch 1/100\n",
            "900/900 [==============================] - 1s 1ms/step - loss: 0.1904 - val_loss: 0.1975\n",
            "Epoch 2/100\n",
            "900/900 [==============================] - 1s 1ms/step - loss: 0.1622 - val_loss: 0.1489\n",
            "Epoch 3/100\n",
            "900/900 [==============================] - 1s 1ms/step - loss: 0.1396 - val_loss: 0.1281\n",
            "Epoch 4/100\n",
            "900/900 [==============================] - 1s 1ms/step - loss: 0.1216 - val_loss: 0.1095\n",
            "Epoch 5/100\n",
            "900/900 [==============================] - 1s 1ms/step - loss: 0.1092 - val_loss: 0.0964\n",
            "Epoch 6/100\n",
            "900/900 [==============================] - 1s 1ms/step - loss: 0.0973 - val_loss: 0.1106\n",
            "Epoch 7/100\n",
            "900/900 [==============================] - 1s 1ms/step - loss: 0.0859 - val_loss: 0.0831\n",
            "Epoch 8/100\n",
            "900/900 [==============================] - 1s 1ms/step - loss: 0.0779 - val_loss: 0.0860\n",
            "Epoch 9/100\n",
            "900/900 [==============================] - 1s 1ms/step - loss: 0.0731 - val_loss: 0.0764\n",
            "Epoch 10/100\n",
            "900/900 [==============================] - 1s 1ms/step - loss: 0.0691 - val_loss: 0.1058\n",
            "Epoch 11/100\n",
            "900/900 [==============================] - 1s 1ms/step - loss: 0.0659 - val_loss: 0.0763\n",
            "Epoch 12/100\n",
            "900/900 [==============================] - 1s 1ms/step - loss: 0.0622 - val_loss: 0.0565\n",
            "Epoch 13/100\n",
            "900/900 [==============================] - 1s 1ms/step - loss: 0.0583 - val_loss: 0.0509\n",
            "Epoch 14/100\n",
            "900/900 [==============================] - 1s 1ms/step - loss: 0.0537 - val_loss: 0.0393\n",
            "Epoch 15/100\n",
            "900/900 [==============================] - 1s 1ms/step - loss: 0.0491 - val_loss: 0.0357\n",
            "Epoch 16/100\n",
            "900/900 [==============================] - 1s 1ms/step - loss: 0.0453 - val_loss: 0.0633\n",
            "Epoch 17/100\n",
            "900/900 [==============================] - 1s 1ms/step - loss: 0.0415 - val_loss: 0.0253\n",
            "Epoch 18/100\n",
            "900/900 [==============================] - 1s 1ms/step - loss: 0.0380 - val_loss: 0.0472\n",
            "Epoch 19/100\n",
            "900/900 [==============================] - 1s 1ms/step - loss: 0.0362 - val_loss: 0.1362\n",
            "Epoch 20/100\n",
            "900/900 [==============================] - 1s 1ms/step - loss: 0.0340 - val_loss: 0.0943\n",
            "Epoch 21/100\n",
            "900/900 [==============================] - 1s 1ms/step - loss: 0.0324 - val_loss: 0.0929\n",
            "Epoch 22/100\n",
            "900/900 [==============================] - 1s 1ms/step - loss: 0.0315 - val_loss: 0.0950\n",
            "Epoch 23/100\n",
            "900/900 [==============================] - 1s 1ms/step - loss: 0.0301 - val_loss: 0.1427\n",
            "Epoch 24/100\n",
            "900/900 [==============================] - 1s 1ms/step - loss: 0.0297 - val_loss: 0.2447\n",
            "Epoch 25/100\n",
            "900/900 [==============================] - 1s 1ms/step - loss: 0.0290 - val_loss: 0.1217\n",
            "Epoch 26/100\n",
            "900/900 [==============================] - 1s 1ms/step - loss: 0.0286 - val_loss: 0.1024\n",
            "Epoch 27/100\n",
            "900/900 [==============================] - 1s 1ms/step - loss: 0.0281 - val_loss: 0.0539\n",
            "Epoch 28/100\n",
            "900/900 [==============================] - 1s 1ms/step - loss: 0.0279 - val_loss: 0.1453\n",
            "Epoch 29/100\n",
            "900/900 [==============================] - 1s 1ms/step - loss: 0.0279 - val_loss: 0.0972\n",
            "Epoch 30/100\n",
            "900/900 [==============================] - 1s 1ms/step - loss: 0.0271 - val_loss: 0.0656\n",
            "Epoch 31/100\n",
            "900/900 [==============================] - 1s 1ms/step - loss: 0.0274 - val_loss: 0.1160\n",
            "Epoch 32/100\n",
            "900/900 [==============================] - 1s 1ms/step - loss: 0.0262 - val_loss: 0.1559\n",
            "Epoch 33/100\n",
            "900/900 [==============================] - 1s 1ms/step - loss: 0.0262 - val_loss: 0.1835\n",
            "Epoch 34/100\n",
            "900/900 [==============================] - 1s 1ms/step - loss: 0.0260 - val_loss: 0.0799\n",
            "Epoch 35/100\n",
            "900/900 [==============================] - 1s 1ms/step - loss: 0.0257 - val_loss: 0.3349\n",
            "Epoch 36/100\n",
            "900/900 [==============================] - 1s 1ms/step - loss: 0.0254 - val_loss: 0.1539\n",
            "Epoch 37/100\n",
            "900/900 [==============================] - 1s 1ms/step - loss: 0.0259 - val_loss: 0.1864\n",
            "Epoch 38/100\n",
            "900/900 [==============================] - 1s 1ms/step - loss: 0.0257 - val_loss: 0.1953\n",
            "Epoch 39/100\n",
            "900/900 [==============================] - 1s 1ms/step - loss: 0.0243 - val_loss: 0.0946\n",
            "Epoch 40/100\n",
            "900/900 [==============================] - 1s 1ms/step - loss: 0.0249 - val_loss: 0.2007\n",
            "Epoch 41/100\n",
            "900/900 [==============================] - 1s 1ms/step - loss: 0.0244 - val_loss: 0.2257\n",
            "Epoch 42/100\n",
            "900/900 [==============================] - 1s 1ms/step - loss: 0.0236 - val_loss: 0.0767\n",
            "Epoch 43/100\n",
            "900/900 [==============================] - 1s 1ms/step - loss: 0.0239 - val_loss: 0.1259\n",
            "Epoch 44/100\n",
            "900/900 [==============================] - 1s 1ms/step - loss: 0.0238 - val_loss: 0.1572\n",
            "Epoch 45/100\n",
            "900/900 [==============================] - 1s 1ms/step - loss: 0.0235 - val_loss: 0.0745\n",
            "Epoch 46/100\n",
            "900/900 [==============================] - 1s 1ms/step - loss: 0.0232 - val_loss: 0.0918\n",
            "Epoch 47/100\n",
            "900/900 [==============================] - 1s 1ms/step - loss: 0.0229 - val_loss: 0.2908\n",
            "Epoch 48/100\n",
            "900/900 [==============================] - 1s 1ms/step - loss: 0.0219 - val_loss: 0.1251\n",
            "Epoch 49/100\n",
            "900/900 [==============================] - 1s 1ms/step - loss: 0.0229 - val_loss: 0.1569\n",
            "Epoch 50/100\n",
            "900/900 [==============================] - 1s 1ms/step - loss: 0.0225 - val_loss: 0.2641\n",
            "Epoch 51/100\n",
            "900/900 [==============================] - 1s 1ms/step - loss: 0.0224 - val_loss: 0.1028\n",
            "Epoch 52/100\n",
            "900/900 [==============================] - 1s 1ms/step - loss: 0.0232 - val_loss: 0.2205\n",
            "Epoch 53/100\n",
            "900/900 [==============================] - 1s 1ms/step - loss: 0.0219 - val_loss: 0.2959\n",
            "Epoch 54/100\n",
            "900/900 [==============================] - 1s 1ms/step - loss: 0.0215 - val_loss: 0.1676\n",
            "Epoch 55/100\n",
            "900/900 [==============================] - 1s 1ms/step - loss: 0.0218 - val_loss: 0.2079\n",
            "Epoch 56/100\n",
            "900/900 [==============================] - 1s 1ms/step - loss: 0.0220 - val_loss: 0.1793\n",
            "Epoch 57/100\n",
            "900/900 [==============================] - 1s 1ms/step - loss: 0.0224 - val_loss: 0.1129\n",
            "Epoch 58/100\n",
            "900/900 [==============================] - 1s 1ms/step - loss: 0.0215 - val_loss: 0.2706\n",
            "Epoch 59/100\n",
            "900/900 [==============================] - 1s 1ms/step - loss: 0.0209 - val_loss: 0.2289\n",
            "Epoch 60/100\n",
            "900/900 [==============================] - 1s 1ms/step - loss: 0.0214 - val_loss: 0.1391\n",
            "Epoch 61/100\n",
            "900/900 [==============================] - 1s 1ms/step - loss: 0.0208 - val_loss: 0.1966\n",
            "Epoch 62/100\n",
            "900/900 [==============================] - 1s 1ms/step - loss: 0.0209 - val_loss: 0.2998\n",
            "Epoch 63/100\n",
            "900/900 [==============================] - 1s 1ms/step - loss: 0.0210 - val_loss: 0.1640\n",
            "Epoch 64/100\n",
            "900/900 [==============================] - 1s 1ms/step - loss: 0.0210 - val_loss: 0.0851\n",
            "Epoch 65/100\n",
            "900/900 [==============================] - 1s 1ms/step - loss: 0.0206 - val_loss: 0.2202\n",
            "Epoch 66/100\n",
            "900/900 [==============================] - 1s 1ms/step - loss: 0.0211 - val_loss: 0.1412\n",
            "Epoch 67/100\n",
            "900/900 [==============================] - 1s 1ms/step - loss: 0.0199 - val_loss: 0.1068\n",
            "Epoch 68/100\n",
            "900/900 [==============================] - 1s 1ms/step - loss: 0.0209 - val_loss: 0.1811\n",
            "Epoch 69/100\n",
            "900/900 [==============================] - 1s 1ms/step - loss: 0.0195 - val_loss: 0.1585\n",
            "Epoch 70/100\n",
            "900/900 [==============================] - 1s 1ms/step - loss: 0.0201 - val_loss: 0.1502\n",
            "Epoch 71/100\n",
            "900/900 [==============================] - 1s 1ms/step - loss: 0.0201 - val_loss: 0.1382\n",
            "Epoch 72/100\n",
            "900/900 [==============================] - 1s 1ms/step - loss: 0.0198 - val_loss: 0.1465\n",
            "Epoch 73/100\n",
            "900/900 [==============================] - 1s 1ms/step - loss: 0.0192 - val_loss: 0.2844\n",
            "Epoch 74/100\n",
            "900/900 [==============================] - 1s 1ms/step - loss: 0.0186 - val_loss: 0.0982\n",
            "Epoch 75/100\n",
            "900/900 [==============================] - 1s 1ms/step - loss: 0.0200 - val_loss: 0.0998\n",
            "Epoch 76/100\n",
            "900/900 [==============================] - 1s 1ms/step - loss: 0.0190 - val_loss: 0.1076\n",
            "Epoch 77/100\n",
            "900/900 [==============================] - 1s 1ms/step - loss: 0.0199 - val_loss: 0.1603\n",
            "Epoch 78/100\n",
            "900/900 [==============================] - 1s 1ms/step - loss: 0.0195 - val_loss: 0.1678\n",
            "Epoch 79/100\n",
            "900/900 [==============================] - 1s 1ms/step - loss: 0.0192 - val_loss: 0.1442\n",
            "Epoch 80/100\n",
            "900/900 [==============================] - 1s 1ms/step - loss: 0.0189 - val_loss: 0.0921\n",
            "Epoch 81/100\n",
            "900/900 [==============================] - 1s 1ms/step - loss: 0.0185 - val_loss: 0.2260\n",
            "Epoch 82/100\n",
            "900/900 [==============================] - 1s 1ms/step - loss: 0.0183 - val_loss: 0.0677\n",
            "Epoch 83/100\n",
            "900/900 [==============================] - 1s 1ms/step - loss: 0.0188 - val_loss: 0.1830\n",
            "Epoch 84/100\n",
            "900/900 [==============================] - 1s 1ms/step - loss: 0.0187 - val_loss: 0.1630\n",
            "Epoch 85/100\n",
            "900/900 [==============================] - 1s 1ms/step - loss: 0.0179 - val_loss: 0.1170\n",
            "Epoch 86/100\n",
            "900/900 [==============================] - 1s 1ms/step - loss: 0.0183 - val_loss: 0.1784\n",
            "Epoch 87/100\n",
            "900/900 [==============================] - 1s 1ms/step - loss: 0.0186 - val_loss: 0.1229\n",
            "Epoch 88/100\n",
            "900/900 [==============================] - 1s 1ms/step - loss: 0.0189 - val_loss: 0.1409\n",
            "Epoch 89/100\n",
            "900/900 [==============================] - 1s 1ms/step - loss: 0.0181 - val_loss: 0.1666\n",
            "Epoch 90/100\n",
            "900/900 [==============================] - 1s 1ms/step - loss: 0.0179 - val_loss: 0.1468\n",
            "Epoch 91/100\n",
            "900/900 [==============================] - 1s 1ms/step - loss: 0.0178 - val_loss: 0.1064\n",
            "Epoch 92/100\n",
            "900/900 [==============================] - 1s 1ms/step - loss: 0.0179 - val_loss: 0.1729\n",
            "Epoch 93/100\n",
            "900/900 [==============================] - 1s 1ms/step - loss: 0.0183 - val_loss: 0.1621\n",
            "Epoch 94/100\n",
            "900/900 [==============================] - 1s 1ms/step - loss: 0.0176 - val_loss: 0.2479\n",
            "Epoch 95/100\n",
            "900/900 [==============================] - 1s 1ms/step - loss: 0.0170 - val_loss: 0.1526\n",
            "Epoch 96/100\n",
            "900/900 [==============================] - 1s 1ms/step - loss: 0.0176 - val_loss: 0.1553\n",
            "Epoch 97/100\n",
            "900/900 [==============================] - 1s 1ms/step - loss: 0.0179 - val_loss: 0.2250\n",
            "Epoch 98/100\n",
            "900/900 [==============================] - 1s 1ms/step - loss: 0.0178 - val_loss: 0.0876\n",
            "Epoch 99/100\n",
            "900/900 [==============================] - 1s 1ms/step - loss: 0.0174 - val_loss: 0.2333\n",
            "Epoch 100/100\n",
            "900/900 [==============================] - 1s 1ms/step - loss: 0.0176 - val_loss: 0.1041\n"
          ],
          "name": "stdout"
        },
        {
          "output_type": "display_data",
          "data": {
            "image/png": "[encoded data removed]",
            "text/plain": [
              "<Figure size 432x288 with 1 Axes>"
            ]
          },
          "metadata": {
            "tags": []
          }
        },
        {
          "output_type": "display_data",
          "data": {
            "image/png": "[encoded data removed]",
            "text/plain": [
              "<Figure size 432x288 with 1 Axes>"
            ]
          },
          "metadata": {
            "tags": []
          }
        },
        {
          "output_type": "display_data",
          "data": {
            "image/png": "[encoded data removed]",
            "text/plain": [
              "<Figure size 432x288 with 1 Axes>"
            ]
          },
          "metadata": {
            "tags": []
          }
        },
        {
          "output_type": "display_data",
          "data": {
            "image/png": "[encoded data removed]",
            "text/plain": [
              "<Figure size 432x288 with 1 Axes>"
            ]
          },
          "metadata": {
            "tags": []
          }
        }
      ]
    },
    {
      "cell_type": "code",
      "metadata": {
        "id": "82mnxtU0OqBH",
        "colab_type": "code",
        "colab": {}
      },
      "source": [
        ""
      ],
      "execution_count": 0,
      "outputs": []
    }
  ]
}